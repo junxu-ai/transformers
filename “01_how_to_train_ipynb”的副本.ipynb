{
  "nbformat": 4,
  "nbformat_minor": 0,
  "metadata": {
    "colab": {
      "name": "“01_how-to-train.ipynb”的副本",
      "provenance": [],
      "collapsed_sections": [],
      "toc_visible": true,
      "machine_shape": "hm",
      "include_colab_link": true
    },
    "kernelspec": {
      "name": "python3",
      "display_name": "Python 3"
    },
    "accelerator": "GPU"
  },
  "cells": [
    {
      "cell_type": "markdown",
      "metadata": {
        "id": "view-in-github",
        "colab_type": "text"
      },
      "source": [
        "<a href=\"https://colab.research.google.com/github/junxu-ai/transformers/blob/master/%E2%80%9C01_how_to_train_ipynb%E2%80%9D%E7%9A%84%E5%89%AF%E6%9C%AC.ipynb\" target=\"_parent\"><img src=\"https://colab.research.google.com/assets/colab-badge.svg\" alt=\"Open In Colab\"/></a>"
      ]
    },
    {
      "cell_type": "code",
      "metadata": {
        "id": "e67Ut53QYEdU",
        "cellView": "form",
        "outputId": "a75b1ba1-53b5-42f8-9797-c98bd29da1b4",
        "colab": {
          "base_uri": "https://localhost:8080/",
          "height": 104
        }
      },
      "source": [
        "#@title\n",
        "%%html\n",
        "<div style=\"background-color: pink;\">\n",
        "  Notebook written in collaboration with <a href=\"https://github.com/aditya-malte\">Aditya Malte</a>.\n",
        "  <br>\n",
        "  The Notebook is on GitHub, so contributions are more than welcome.\n",
        "</div>\n",
        "<br>\n",
        "<div style=\"background-color: yellow;\">\n",
        "  Aditya wrote another notebook with a slightly different use case and methodology, please check it out.\n",
        "  <br>\n",
        "  <a target=\"_blank\" href=\"https://gist.github.com/aditya-malte/2d4f896f471be9c38eb4d723a710768b\">\n",
        "    https://gist.github.com/aditya-malte/2d4f896f471be9c38eb4d723a710768b\n",
        "  </a>\n",
        "</div>\n"
      ],
      "execution_count": null,
      "outputs": [
        {
          "output_type": "display_data",
          "data": {
            "text/plain": [
              "<IPython.core.display.HTML object>"
            ],
            "text/html": [
              "<div style=\"background-color: pink;\">\n",
              "  Notebook written in collaboration with <a href=\"https://github.com/aditya-malte\">Aditya Malte</a>.\n",
              "  <br>\n",
              "  The Notebook is on GitHub, so contributions are more than welcome.\n",
              "</div>\n",
              "<br>\n",
              "<div style=\"background-color: yellow;\">\n",
              "  Aditya wrote another notebook with a slightly different use case and methodology, please check it out.\n",
              "  <br>\n",
              "  <a target=\"_blank\" href=\"https://gist.github.com/aditya-malte/2d4f896f471be9c38eb4d723a710768b\">\n",
              "    https://gist.github.com/aditya-malte/2d4f896f471be9c38eb4d723a710768b\n",
              "  </a>\n",
              "</div>"
            ]
          },
          "metadata": {}
        }
      ]
    },
    {
      "cell_type": "markdown",
      "metadata": {
        "id": "M1oqh0F6W3ad"
      },
      "source": [
        "# How to train a new language model from scratch using Transformers and Tokenizers\n",
        "\n",
        "### Notebook edition (link to blogpost [link](https://huggingface.co/blog/how-to-train)). Last update May 15, 2020\n",
        "\n",
        "\n",
        "Over the past few months, we made several improvements to our [`transformers`](https://github.com/huggingface/transformers) and [`tokenizers`](https://github.com/huggingface/tokenizers) libraries, with the goal of making it easier than ever to **train a new language model from scratch**.\n",
        "\n",
        "In this post we’ll demo how to train a “small” model (84 M parameters = 6 layers, 768 hidden size, 12 attention heads) – that’s the same number of layers & heads as DistilBERT – on **Esperanto**. We’ll then fine-tune the model on a downstream task of part-of-speech tagging.\n"
      ]
    },
    {
      "cell_type": "markdown",
      "metadata": {
        "id": "oK7PPVm2XBgr"
      },
      "source": [
        "## 1. Find a dataset\n",
        "\n",
        "First, let us find a corpus of text in Esperanto. Here we’ll use the Esperanto portion of the [OSCAR corpus](https://traces1.inria.fr/oscar/) from INRIA.\n",
        "OSCAR is a huge multilingual corpus obtained by language classification and filtering of [Common Crawl](https://commoncrawl.org/) dumps of the Web.\n",
        "\n",
        "<img src=\"https://huggingface.co/blog/assets/01_how-to-train/oscar.png\" style=\"margin: auto; display: block; width: 260px;\">\n",
        "\n",
        "The Esperanto portion of the dataset is only 299M, so we’ll concatenate with the Esperanto sub-corpus of the [Leipzig Corpora Collection](https://wortschatz.uni-leipzig.de/en/download), which is comprised of text from diverse sources like news, literature, and wikipedia.\n",
        "\n",
        "The final training corpus has a size of 3 GB, which is still small – for your model, you will get better results the more data you can get to pretrain on. \n",
        "\n"
      ]
    },
    {
      "cell_type": "code",
      "metadata": {
        "id": "HOk4iZ9YZvec",
        "colab": {
          "base_uri": "https://localhost:8080/"
        },
        "outputId": "27826c0f-25a6-4e8d-cdf0-a9e49fdbe25c"
      },
      "source": [
        "# in this notebook we'll only get one of the files (the Oscar one) for the sake of simplicity and performance\n",
        "!wget -c https://cdn-datasets.huggingface.co/EsperBERTo/data/oscar.eo.txt"
      ],
      "execution_count": null,
      "outputs": [
        {
          "output_type": "stream",
          "name": "stdout",
          "text": [
            "--2022-04-09 12:35:41--  https://cdn-datasets.huggingface.co/EsperBERTo/data/oscar.eo.txt\n",
            "Resolving cdn-datasets.huggingface.co (cdn-datasets.huggingface.co)... 108.156.91.28, 108.156.91.36, 108.156.91.78, ...\n",
            "Connecting to cdn-datasets.huggingface.co (cdn-datasets.huggingface.co)|108.156.91.28|:443... connected.\n",
            "HTTP request sent, awaiting response... 200 OK\n",
            "Length: 312733741 (298M) [text/plain]\n",
            "Saving to: ‘oscar.eo.txt’\n",
            "\n",
            "oscar.eo.txt        100%[===================>] 298.25M   216MB/s    in 1.4s    \n",
            "\n",
            "2022-04-09 12:35:43 (216 MB/s) - ‘oscar.eo.txt’ saved [312733741/312733741]\n",
            "\n"
          ]
        }
      ]
    },
    {
      "cell_type": "code",
      "source": [
        "!rm -r EsperBERTo"
      ],
      "metadata": {
        "id": "4Gy7DbtzZnee"
      },
      "execution_count": null,
      "outputs": []
    },
    {
      "cell_type": "code",
      "source": [
        "i=0\n",
        "with open(\"oscar.eo.txt\",'r') as file_in:\n",
        "    lines = []    \n",
        "    for line in file_in:\n",
        "        lines.append(line)\n",
        "        i+=1\n",
        "        if i>10000:\n",
        "          break\n"
      ],
      "metadata": {
        "id": "y9ACPPiBZsbi"
      },
      "execution_count": null,
      "outputs": []
    },
    {
      "cell_type": "code",
      "source": [
        "with open('readme.txt', 'w') as f:\n",
        "    f.writelines(lines)"
      ],
      "metadata": {
        "id": "kE5Hz-Kfah4w"
      },
      "execution_count": null,
      "outputs": []
    },
    {
      "cell_type": "markdown",
      "metadata": {
        "id": "G-kkz81OY6xH"
      },
      "source": [
        "## 2. Train a tokenizer\n",
        "\n",
        "We choose to train a byte-level Byte-pair encoding tokenizer (the same as GPT-2), with the same special tokens as RoBERTa. Let’s arbitrarily pick its size to be 52,000.\n",
        "\n",
        "We recommend training a byte-level BPE (rather than let’s say, a WordPiece tokenizer like BERT) because it will start building its vocabulary from an alphabet of single bytes, so all words will be decomposable into tokens (no more `<unk>` tokens!).\n"
      ]
    },
    {
      "cell_type": "code",
      "metadata": {
        "id": "5duRggBRZKvP",
        "colab": {
          "base_uri": "https://localhost:8080/"
        },
        "outputId": "b1ccef9c-cbb3-456e-d28e-74b49dd33f4b"
      },
      "source": [
        "# We won't need TensorFlow here\n",
        "!pip uninstall -y tensorflow\n",
        "# Install `transformers` from master\n",
        "!pip install git+https://github.com/huggingface/transformers\n",
        "!pip list | grep -E 'transformers|tokenizers'\n",
        "# transformers version at notebook update --- 2.11.0\n",
        "# tokenizers version at notebook update --- 0.8.0rc1"
      ],
      "execution_count": null,
      "outputs": [
        {
          "output_type": "stream",
          "name": "stdout",
          "text": [
            "\u001b[33mWARNING: Skipping tensorflow as it is not installed.\u001b[0m\n",
            "Collecting git+https://github.com/huggingface/transformers\n",
            "  Cloning https://github.com/huggingface/transformers to /tmp/pip-req-build-jj54fsat\n",
            "  Running command git clone -q https://github.com/huggingface/transformers /tmp/pip-req-build-jj54fsat\n",
            "  Installing build dependencies ... \u001b[?25l\u001b[?25hdone\n",
            "  Getting requirements to build wheel ... \u001b[?25l\u001b[?25hdone\n",
            "    Preparing wheel metadata ... \u001b[?25l\u001b[?25hdone\n",
            "Requirement already satisfied: filelock in /usr/local/lib/python3.7/dist-packages (from transformers==4.19.0.dev0) (3.6.0)\n",
            "Requirement already satisfied: numpy>=1.17 in /usr/local/lib/python3.7/dist-packages (from transformers==4.19.0.dev0) (1.21.5)\n",
            "Requirement already satisfied: tqdm>=4.27 in /usr/local/lib/python3.7/dist-packages (from transformers==4.19.0.dev0) (4.63.0)\n",
            "Requirement already satisfied: regex!=2019.12.17 in /usr/local/lib/python3.7/dist-packages (from transformers==4.19.0.dev0) (2019.12.20)\n",
            "Requirement already satisfied: tokenizers!=0.11.3,<0.13,>=0.11.1 in /usr/local/lib/python3.7/dist-packages (from transformers==4.19.0.dev0) (0.11.6)\n",
            "Requirement already satisfied: requests in /usr/local/lib/python3.7/dist-packages (from transformers==4.19.0.dev0) (2.23.0)\n",
            "Requirement already satisfied: packaging>=20.0 in /usr/local/lib/python3.7/dist-packages (from transformers==4.19.0.dev0) (21.3)\n",
            "Requirement already satisfied: importlib-metadata in /usr/local/lib/python3.7/dist-packages (from transformers==4.19.0.dev0) (4.11.3)\n",
            "Requirement already satisfied: pyyaml>=5.1 in /usr/local/lib/python3.7/dist-packages (from transformers==4.19.0.dev0) (6.0)\n",
            "Requirement already satisfied: huggingface-hub<1.0,>=0.1.0 in /usr/local/lib/python3.7/dist-packages (from transformers==4.19.0.dev0) (0.5.1)\n",
            "Requirement already satisfied: sacremoses in /usr/local/lib/python3.7/dist-packages (from transformers==4.19.0.dev0) (0.0.49)\n",
            "Requirement already satisfied: typing-extensions>=3.7.4.3 in /usr/local/lib/python3.7/dist-packages (from huggingface-hub<1.0,>=0.1.0->transformers==4.19.0.dev0) (3.10.0.2)\n",
            "Requirement already satisfied: pyparsing!=3.0.5,>=2.0.2 in /usr/local/lib/python3.7/dist-packages (from packaging>=20.0->transformers==4.19.0.dev0) (3.0.7)\n",
            "Requirement already satisfied: zipp>=0.5 in /usr/local/lib/python3.7/dist-packages (from importlib-metadata->transformers==4.19.0.dev0) (3.7.0)\n",
            "Requirement already satisfied: certifi>=2017.4.17 in /usr/local/lib/python3.7/dist-packages (from requests->transformers==4.19.0.dev0) (2021.10.8)\n",
            "Requirement already satisfied: urllib3!=1.25.0,!=1.25.1,<1.26,>=1.21.1 in /usr/local/lib/python3.7/dist-packages (from requests->transformers==4.19.0.dev0) (1.24.3)\n",
            "Requirement already satisfied: chardet<4,>=3.0.2 in /usr/local/lib/python3.7/dist-packages (from requests->transformers==4.19.0.dev0) (3.0.4)\n",
            "Requirement already satisfied: idna<3,>=2.5 in /usr/local/lib/python3.7/dist-packages (from requests->transformers==4.19.0.dev0) (2.10)\n",
            "Requirement already satisfied: click in /usr/local/lib/python3.7/dist-packages (from sacremoses->transformers==4.19.0.dev0) (7.1.2)\n",
            "Requirement already satisfied: six in /usr/local/lib/python3.7/dist-packages (from sacremoses->transformers==4.19.0.dev0) (1.15.0)\n",
            "Requirement already satisfied: joblib in /usr/local/lib/python3.7/dist-packages (from sacremoses->transformers==4.19.0.dev0) (1.1.0)\n",
            "tokenizers                    0.11.6\n",
            "transformers                  4.19.0.dev0\n"
          ]
        }
      ]
    },
    {
      "cell_type": "code",
      "metadata": {
        "id": "IMnymRDLe0hi",
        "outputId": "93a6d28c-cd2a-46ab-e1a0-c74920ecae84",
        "colab": {
          "base_uri": "https://localhost:8080/"
        }
      },
      "source": [
        "%%time \n",
        "from pathlib import Path\n",
        "\n",
        "from tokenizers import ByteLevelBPETokenizer\n",
        "\n",
        "paths = [str(x) for x in Path(\".\").glob(\"**/*.txt\")]\n",
        "\n",
        "# Initialize a tokenizer\n",
        "tokenizer = ByteLevelBPETokenizer()\n",
        "\n",
        "# Customize training\n",
        "tokenizer.train(files=['readme.txt'], vocab_size=52_000, min_frequency=2, special_tokens=[\n",
        "    \"<s>\",\n",
        "    \"<pad>\",\n",
        "    \"</s>\",\n",
        "    \"<unk>\",\n",
        "    \"<mask>\",\n",
        "])"
      ],
      "execution_count": null,
      "outputs": [
        {
          "output_type": "stream",
          "name": "stdout",
          "text": [
            "CPU times: user 6.46 s, sys: 966 ms, total: 7.43 s\n",
            "Wall time: 4.64 s\n"
          ]
        }
      ]
    },
    {
      "cell_type": "markdown",
      "metadata": {
        "id": "6Ei7bqpRf1LH"
      },
      "source": [
        "Now let's save files to disk"
      ]
    },
    {
      "cell_type": "code",
      "metadata": {
        "id": "EIS-irI0f32P",
        "outputId": "b0a6bfd0-09c8-4f6a-ef0a-50eed4a8d843",
        "colab": {
          "base_uri": "https://localhost:8080/"
        }
      },
      "source": [
        "!mkdir EsperBERTo\n",
        "tokenizer.save_model(\"EsperBERTo\")"
      ],
      "execution_count": null,
      "outputs": [
        {
          "output_type": "stream",
          "name": "stdout",
          "text": [
            "mkdir: cannot create directory ‘EsperBERTo’: File exists\n"
          ]
        },
        {
          "output_type": "execute_result",
          "data": {
            "text/plain": [
              "['EsperBERTo/vocab.json', 'EsperBERTo/merges.txt']"
            ]
          },
          "metadata": {},
          "execution_count": 4
        }
      ]
    },
    {
      "cell_type": "markdown",
      "metadata": {
        "id": "lOOfYSuQhSqT"
      },
      "source": [
        "🔥🔥 Wow, that was fast! ⚡️🔥\n",
        "\n",
        "We now have both a `vocab.json`, which is a list of the most frequent tokens ranked by frequency, and a `merges.txt` list of merges.\n",
        "\n",
        "```json\n",
        "{\n",
        "\t\"<s>\": 0,\n",
        "\t\"<pad>\": 1,\n",
        "\t\"</s>\": 2,\n",
        "\t\"<unk>\": 3,\n",
        "\t\"<mask>\": 4,\n",
        "\t\"!\": 5,\n",
        "\t\"\\\"\": 6,\n",
        "\t\"#\": 7,\n",
        "\t\"$\": 8,\n",
        "\t\"%\": 9,\n",
        "\t\"&\": 10,\n",
        "\t\"'\": 11,\n",
        "\t\"(\": 12,\n",
        "\t\")\": 13,\n",
        "\t# ...\n",
        "}\n",
        "\n",
        "# merges.txt\n",
        "l a\n",
        "Ġ k\n",
        "o n\n",
        "Ġ la\n",
        "t a\n",
        "Ġ e\n",
        "Ġ d\n",
        "Ġ p\n",
        "# ...\n",
        "```\n",
        "\n",
        "What is great is that our tokenizer is optimized for Esperanto. Compared to a generic tokenizer trained for English, more native words are represented by a single, unsplit token. Diacritics, i.e. accented characters used in Esperanto – `ĉ`, `ĝ`, `ĥ`, `ĵ`, `ŝ`, and `ŭ` – are encoded natively. We also represent sequences in a more efficient manner. Here on this corpus, the average length of encoded sequences is ~30% smaller as when using the pretrained GPT-2 tokenizer.\n",
        "\n",
        "Here’s  how you can use it in `tokenizers`, including handling the RoBERTa special tokens – of course, you’ll also be able to use it directly from `transformers`.\n"
      ]
    },
    {
      "cell_type": "code",
      "metadata": {
        "id": "tKVWB8WShT-z"
      },
      "source": [
        "from tokenizers.implementations import ByteLevelBPETokenizer\n",
        "from tokenizers.processors import BertProcessing\n",
        "\n",
        "\n",
        "tokenizer = ByteLevelBPETokenizer(\n",
        "    \"./EsperBERTo/vocab.json\",\n",
        "    \"./EsperBERTo/merges.txt\",\n",
        ")"
      ],
      "execution_count": null,
      "outputs": []
    },
    {
      "cell_type": "code",
      "metadata": {
        "id": "hO5M3vrAhcuj"
      },
      "source": [
        "tokenizer._tokenizer.post_processor = BertProcessing(\n",
        "    (\"</s>\", tokenizer.token_to_id(\"</s>\")),\n",
        "    (\"<s>\", tokenizer.token_to_id(\"<s>\")),\n",
        ")\n",
        "tokenizer.enable_truncation(max_length=512)"
      ],
      "execution_count": null,
      "outputs": []
    },
    {
      "cell_type": "code",
      "metadata": {
        "id": "E3Ye27nchfzq",
        "outputId": "4d6d6893-c83a-4fdc-feef-e4e7ca75f82f",
        "colab": {
          "base_uri": "https://localhost:8080/"
        }
      },
      "source": [
        "tokenizer.encode(\"Mi estas Julien.\")"
      ],
      "execution_count": null,
      "outputs": [
        {
          "output_type": "execute_result",
          "data": {
            "text/plain": [
              "Encoding(num_tokens=7, attributes=[ids, type_ids, tokens, offsets, attention_mask, special_tokens_mask, overflowing])"
            ]
          },
          "metadata": {},
          "execution_count": 7
        }
      ]
    },
    {
      "cell_type": "code",
      "metadata": {
        "id": "X8ya5_7rhjKS",
        "outputId": "c6aabf54-8c4b-40f4-8d60-cef08028395d",
        "colab": {
          "base_uri": "https://localhost:8080/"
        }
      },
      "source": [
        "tokenizer.encode(\"Mi estas Julien.\").tokens"
      ],
      "execution_count": null,
      "outputs": [
        {
          "output_type": "execute_result",
          "data": {
            "text/plain": [
              "['<s>', 'Mi', 'Ġestas', 'ĠJuli', 'en', '.', '</s>']"
            ]
          },
          "metadata": {},
          "execution_count": 8
        }
      ]
    },
    {
      "cell_type": "markdown",
      "metadata": {
        "id": "WQpUC_CDhnWW"
      },
      "source": [
        "## 3. Train a language model from scratch\n",
        "\n",
        "**Update:** This section follows along the [`run_language_modeling.py`](https://github.com/huggingface/transformers/blob/master/examples/legacy/run_language_modeling.py) script, using our new [`Trainer`](https://github.com/huggingface/transformers/blob/master/src/transformers/trainer.py) directly. Feel free to pick the approach you like best.\n",
        "\n",
        "> We’ll train a RoBERTa-like model, which is a BERT-like with a couple of changes (check the [documentation](https://huggingface.co/transformers/model_doc/roberta.html) for more details).\n",
        "\n",
        "As the model is BERT-like, we’ll train it on a task of *Masked language modeling*, i.e. the predict how to fill arbitrary tokens that we randomly mask in the dataset. This is taken care of by the example script.\n"
      ]
    },
    {
      "cell_type": "code",
      "metadata": {
        "id": "kD140sFjh0LQ",
        "outputId": "67128cb4-97ae-490c-aee3-d5e73ed0ac11",
        "colab": {
          "base_uri": "https://localhost:8080/"
        }
      },
      "source": [
        "# Check that we have a GPU\n",
        "!nvidia-smi"
      ],
      "execution_count": null,
      "outputs": [
        {
          "output_type": "stream",
          "name": "stdout",
          "text": [
            "Sat Apr  9 13:12:00 2022       \n",
            "+-----------------------------------------------------------------------------+\n",
            "| NVIDIA-SMI 460.32.03    Driver Version: 460.32.03    CUDA Version: 11.2     |\n",
            "|-------------------------------+----------------------+----------------------+\n",
            "| GPU  Name        Persistence-M| Bus-Id        Disp.A | Volatile Uncorr. ECC |\n",
            "| Fan  Temp  Perf  Pwr:Usage/Cap|         Memory-Usage | GPU-Util  Compute M. |\n",
            "|                               |                      |               MIG M. |\n",
            "|===============================+======================+======================|\n",
            "|   0  Tesla K80           Off  | 00000000:00:04.0 Off |                    0 |\n",
            "| N/A   42C    P0    60W / 149W |  10835MiB / 11441MiB |      0%      Default |\n",
            "|                               |                      |                  N/A |\n",
            "+-------------------------------+----------------------+----------------------+\n",
            "                                                                               \n",
            "+-----------------------------------------------------------------------------+\n",
            "| Processes:                                                                  |\n",
            "|  GPU   GI   CI        PID   Type   Process name                  GPU Memory |\n",
            "|        ID   ID                                                   Usage      |\n",
            "|=============================================================================|\n",
            "+-----------------------------------------------------------------------------+\n"
          ]
        }
      ]
    },
    {
      "cell_type": "code",
      "metadata": {
        "id": "VNZZs-r6iKAV",
        "outputId": "a089674c-16f7-43f0-bf6d-a2a9972b4ccf",
        "colab": {
          "base_uri": "https://localhost:8080/"
        }
      },
      "source": [
        "# Check that PyTorch sees it\n",
        "import torch\n",
        "torch.cuda.is_available()"
      ],
      "execution_count": null,
      "outputs": [
        {
          "output_type": "execute_result",
          "data": {
            "text/plain": [
              "True"
            ]
          },
          "metadata": {},
          "execution_count": 34
        }
      ]
    },
    {
      "cell_type": "markdown",
      "metadata": {
        "id": "u0qQzgrBi1OX"
      },
      "source": [
        "### We'll define the following config for the model"
      ]
    },
    {
      "cell_type": "code",
      "metadata": {
        "id": "LTXXutqeDzPi"
      },
      "source": [
        "from transformers import RobertaConfig\n",
        "\n",
        "config = RobertaConfig(\n",
        "    vocab_size=52_000,\n",
        "    max_position_embeddings=514,\n",
        "    num_attention_heads=6,\n",
        "    num_hidden_layers=2,\n",
        "    type_vocab_size=1,\n",
        ")"
      ],
      "execution_count": null,
      "outputs": []
    },
    {
      "cell_type": "markdown",
      "metadata": {
        "id": "yAwQ82JiE5pi"
      },
      "source": [
        "Now let's re-create our tokenizer in transformers"
      ]
    },
    {
      "cell_type": "code",
      "metadata": {
        "id": "4keFBUjQFOD1",
        "colab": {
          "base_uri": "https://localhost:8080/"
        },
        "outputId": "858ab186-b0f0-4dfd-ac8c-654d55838c8c"
      },
      "source": [
        "from transformers import RobertaTokenizerFast\n",
        "\n",
        "tokenizer = RobertaTokenizerFast.from_pretrained(\"./EsperBERTo\", max_len=512)"
      ],
      "execution_count": null,
      "outputs": [
        {
          "output_type": "stream",
          "name": "stderr",
          "text": [
            "Didn't find file ./EsperBERTo/tokenizer.json. We won't load it.\n",
            "Didn't find file ./EsperBERTo/added_tokens.json. We won't load it.\n",
            "Didn't find file ./EsperBERTo/special_tokens_map.json. We won't load it.\n",
            "Didn't find file ./EsperBERTo/tokenizer_config.json. We won't load it.\n",
            "loading file ./EsperBERTo/vocab.json\n",
            "loading file ./EsperBERTo/merges.txt\n",
            "loading file None\n",
            "loading file None\n",
            "loading file None\n",
            "loading file None\n",
            "loading configuration file ./EsperBERTo/config.json\n",
            "Model config RobertaConfig {\n",
            "  \"_name_or_path\": \"./EsperBERTo\",\n",
            "  \"architectures\": [\n",
            "    \"RobertaForMaskedLM\"\n",
            "  ],\n",
            "  \"attention_probs_dropout_prob\": 0.1,\n",
            "  \"bos_token_id\": 0,\n",
            "  \"classifier_dropout\": null,\n",
            "  \"eos_token_id\": 2,\n",
            "  \"hidden_act\": \"gelu\",\n",
            "  \"hidden_dropout_prob\": 0.1,\n",
            "  \"hidden_size\": 768,\n",
            "  \"initializer_range\": 0.02,\n",
            "  \"intermediate_size\": 3072,\n",
            "  \"layer_norm_eps\": 1e-12,\n",
            "  \"max_position_embeddings\": 514,\n",
            "  \"model_type\": \"roberta\",\n",
            "  \"num_attention_heads\": 12,\n",
            "  \"num_hidden_layers\": 6,\n",
            "  \"pad_token_id\": 1,\n",
            "  \"position_embedding_type\": \"absolute\",\n",
            "  \"torch_dtype\": \"float32\",\n",
            "  \"transformers_version\": \"4.19.0.dev0\",\n",
            "  \"type_vocab_size\": 1,\n",
            "  \"use_cache\": true,\n",
            "  \"vocab_size\": 52000\n",
            "}\n",
            "\n",
            "loading configuration file ./EsperBERTo/config.json\n",
            "Model config RobertaConfig {\n",
            "  \"_name_or_path\": \"./EsperBERTo\",\n",
            "  \"architectures\": [\n",
            "    \"RobertaForMaskedLM\"\n",
            "  ],\n",
            "  \"attention_probs_dropout_prob\": 0.1,\n",
            "  \"bos_token_id\": 0,\n",
            "  \"classifier_dropout\": null,\n",
            "  \"eos_token_id\": 2,\n",
            "  \"hidden_act\": \"gelu\",\n",
            "  \"hidden_dropout_prob\": 0.1,\n",
            "  \"hidden_size\": 768,\n",
            "  \"initializer_range\": 0.02,\n",
            "  \"intermediate_size\": 3072,\n",
            "  \"layer_norm_eps\": 1e-12,\n",
            "  \"max_position_embeddings\": 514,\n",
            "  \"model_type\": \"roberta\",\n",
            "  \"num_attention_heads\": 12,\n",
            "  \"num_hidden_layers\": 6,\n",
            "  \"pad_token_id\": 1,\n",
            "  \"position_embedding_type\": \"absolute\",\n",
            "  \"torch_dtype\": \"float32\",\n",
            "  \"transformers_version\": \"4.19.0.dev0\",\n",
            "  \"type_vocab_size\": 1,\n",
            "  \"use_cache\": true,\n",
            "  \"vocab_size\": 52000\n",
            "}\n",
            "\n"
          ]
        }
      ]
    },
    {
      "cell_type": "markdown",
      "metadata": {
        "id": "6yNCw-3hFv9h"
      },
      "source": [
        "Finally let's initialize our model.\n",
        "\n",
        "**Important:**\n",
        "\n",
        "As we are training from scratch, we only initialize from a config, not from an existing pretrained model or checkpoint."
      ]
    },
    {
      "cell_type": "code",
      "metadata": {
        "id": "BzMqR-dzF4Ro"
      },
      "source": [
        "from transformers import RobertaForMaskedLM\n",
        "\n",
        "model = RobertaForMaskedLM(config=config)"
      ],
      "execution_count": null,
      "outputs": []
    },
    {
      "cell_type": "code",
      "metadata": {
        "id": "jU6JhBSTKiaM",
        "outputId": "877ca917-1ff2-4c68-fe84-bd2dc62f316d",
        "colab": {
          "base_uri": "https://localhost:8080/"
        }
      },
      "source": [
        "model.num_parameters()\n",
        "# => 84 million parameters"
      ],
      "execution_count": null,
      "outputs": [
        {
          "output_type": "execute_result",
          "data": {
            "text/plain": [
              "55152928"
            ]
          },
          "metadata": {},
          "execution_count": 38
        }
      ]
    },
    {
      "cell_type": "markdown",
      "metadata": {
        "id": "jBtUHRMliOLM"
      },
      "source": [
        "### Now let's build our training Dataset\n",
        "\n",
        "We'll build our dataset by applying our tokenizer to our text file.\n",
        "\n",
        "Here, as we only have one text file, we don't even need to customize our `Dataset`. We'll just use the `LineByLineDataset` out-of-the-box."
      ]
    },
    {
      "cell_type": "code",
      "metadata": {
        "id": "GlvP_A-THEEl",
        "outputId": "e14253a8-174a-4ccb-bf5a-0ee0bbeba6e6",
        "colab": {
          "base_uri": "https://localhost:8080/"
        }
      },
      "source": [
        "%%time\n",
        "from transformers import LineByLineTextDataset\n",
        "\n",
        "dataset = LineByLineTextDataset(\n",
        "    tokenizer=tokenizer,\n",
        "    # file_path=\"./oscar.eo.txt\",\n",
        "    file_path=\"./readme.txt\",\n",
        "    block_size=128,\n",
        ")"
      ],
      "execution_count": null,
      "outputs": [
        {
          "output_type": "stream",
          "name": "stderr",
          "text": [
            "/usr/local/lib/python3.7/dist-packages/transformers/data/datasets/language_modeling.py:125: FutureWarning: This dataset will be removed from the library soon, preprocessing should be handled with the 🤗 Datasets library. You can have a look at this example script for pointers: https://github.com/huggingface/transformers/blob/main/examples/pytorch/language-modeling/run_mlm.py\n",
            "  FutureWarning,\n",
            "Creating features from dataset file at ./readme.txt\n"
          ]
        },
        {
          "output_type": "stream",
          "name": "stdout",
          "text": [
            "CPU times: user 3.51 s, sys: 47.5 ms, total: 3.56 s\n",
            "Wall time: 2.04 s\n"
          ]
        }
      ]
    },
    {
      "cell_type": "markdown",
      "metadata": {
        "id": "hDLs73HcIHk5"
      },
      "source": [
        "Like in the [`run_language_modeling.py`](https://github.com/huggingface/transformers/blob/master/examples/language-modeling/run_language_modeling.py) script, we need to define a data_collator.\n",
        "\n",
        "This is just a small helper that will help us batch different samples of the dataset together into an object that PyTorch knows how to perform backprop on."
      ]
    },
    {
      "cell_type": "code",
      "metadata": {
        "id": "zTgWPa9Dipk2"
      },
      "source": [
        "from transformers import DataCollatorForLanguageModeling\n",
        "\n",
        "data_collator = DataCollatorForLanguageModeling(\n",
        "    tokenizer=tokenizer, mlm=True, mlm_probability=0.15\n",
        ")"
      ],
      "execution_count": null,
      "outputs": []
    },
    {
      "cell_type": "markdown",
      "metadata": {
        "id": "ri2BIQKqjfHm"
      },
      "source": [
        "### Finally, we are all set to initialize our Trainer"
      ]
    },
    {
      "cell_type": "code",
      "metadata": {
        "id": "YpvnFFmZJD-N",
        "colab": {
          "base_uri": "https://localhost:8080/"
        },
        "outputId": "35a6ae1a-a626-4992-9eb8-4a229e4d5480"
      },
      "source": [
        "from transformers import Trainer, TrainingArguments\n",
        "\n",
        "training_args = TrainingArguments(\n",
        "    output_dir=\"./EsperBERTo\",\n",
        "    overwrite_output_dir=True,\n",
        "    num_train_epochs=1,\n",
        "    per_gpu_train_batch_size=16,\n",
        "    save_steps=10_000,\n",
        "    save_total_limit=2,\n",
        "    prediction_loss_only=True,\n",
        ")\n",
        "\n",
        "trainer = Trainer(\n",
        "    model=model,\n",
        "    args=training_args,\n",
        "    data_collator=data_collator,\n",
        "    train_dataset=dataset,\n",
        ")"
      ],
      "execution_count": null,
      "outputs": [
        {
          "output_type": "stream",
          "name": "stderr",
          "text": [
            "PyTorch: setting up devices\n",
            "The default value for the training argument `--report_to` will change in v5 (from all installed integrations to none). In v5, you will need to use `--report_to all` to get the same behavior as now. You should start updating your code and make this info disappear :-).\n"
          ]
        }
      ]
    },
    {
      "cell_type": "markdown",
      "metadata": {
        "id": "o6sASa36Nf-N"
      },
      "source": [
        "### Start training"
      ]
    },
    {
      "cell_type": "code",
      "metadata": {
        "id": "VmaHZXzmkNtJ",
        "outputId": "afc7ca9b-f26f-48d6-971a-3d5a64a475f3",
        "colab": {
          "base_uri": "https://localhost:8080/",
          "height": 474
        }
      },
      "source": [
        "%%time\n",
        "trainer.train()"
      ],
      "execution_count": null,
      "outputs": [
        {
          "output_type": "stream",
          "name": "stderr",
          "text": [
            "Using deprecated `--per_gpu_train_batch_size` argument which will be removed in a future version. Using `--per_device_train_batch_size` is preferred.\n",
            "Using deprecated `--per_gpu_train_batch_size` argument which will be removed in a future version. Using `--per_device_train_batch_size` is preferred.\n",
            "/usr/local/lib/python3.7/dist-packages/transformers/optimization.py:309: FutureWarning: This implementation of AdamW is deprecated and will be removed in a future version. Use the PyTorch implementation torch.optim.AdamW instead, or set `no_deprecation_warning=True` to disable this warning\n",
            "  FutureWarning,\n",
            "***** Running training *****\n",
            "  Num examples = 10001\n",
            "  Num Epochs = 1\n",
            "  Instantaneous batch size per device = 8\n",
            "  Total train batch size (w. parallel, distributed & accumulation) = 16\n",
            "  Gradient Accumulation steps = 1\n",
            "  Total optimization steps = 626\n",
            "Using deprecated `--per_gpu_train_batch_size` argument which will be removed in a future version. Using `--per_device_train_batch_size` is preferred.\n"
          ]
        },
        {
          "output_type": "display_data",
          "data": {
            "text/plain": [
              "<IPython.core.display.HTML object>"
            ],
            "text/html": [
              "\n",
              "    <div>\n",
              "      \n",
              "      <progress value='626' max='626' style='width:300px; height:20px; vertical-align: middle;'></progress>\n",
              "      [626/626 05:26, Epoch 1/1]\n",
              "    </div>\n",
              "    <table border=\"1\" class=\"dataframe\">\n",
              "  <thead>\n",
              " <tr style=\"text-align: left;\">\n",
              "      <th>Step</th>\n",
              "      <th>Training Loss</th>\n",
              "    </tr>\n",
              "  </thead>\n",
              "  <tbody>\n",
              "    <tr>\n",
              "      <td>500</td>\n",
              "      <td>8.226200</td>\n",
              "    </tr>\n",
              "  </tbody>\n",
              "</table><p>"
            ]
          },
          "metadata": {}
        },
        {
          "output_type": "stream",
          "name": "stderr",
          "text": [
            "\n",
            "\n",
            "Training completed. Do not forget to share your model on huggingface.co/models =)\n",
            "\n",
            "\n"
          ]
        },
        {
          "output_type": "stream",
          "name": "stdout",
          "text": [
            "CPU times: user 5min 26s, sys: 2.19 s, total: 5min 28s\n",
            "Wall time: 5min 26s\n"
          ]
        },
        {
          "output_type": "execute_result",
          "data": {
            "text/plain": [
              "TrainOutput(global_step=626, training_loss=8.166515216278954, metrics={'train_runtime': 326.8115, 'train_samples_per_second': 30.602, 'train_steps_per_second': 1.915, 'total_flos': 109942062405504.0, 'train_loss': 8.166515216278954, 'epoch': 1.0})"
            ]
          },
          "metadata": {},
          "execution_count": 42
        }
      ]
    },
    {
      "cell_type": "markdown",
      "metadata": {
        "id": "_ZkooHz1-_2h"
      },
      "source": [
        "#### 🎉 Save final model (+ tokenizer + config) to disk"
      ]
    },
    {
      "cell_type": "code",
      "metadata": {
        "id": "QDNgPls7_l13",
        "colab": {
          "base_uri": "https://localhost:8080/"
        },
        "outputId": "12221cdd-0d5f-484c-90d7-4e5bb1bb4445"
      },
      "source": [
        "trainer.save_model(\"./EsperBERTo\")"
      ],
      "execution_count": null,
      "outputs": [
        {
          "output_type": "stream",
          "name": "stderr",
          "text": [
            "Saving model checkpoint to ./EsperBERTo\n",
            "Configuration saved in ./EsperBERTo/config.json\n",
            "Model weights saved in ./EsperBERTo/pytorch_model.bin\n"
          ]
        }
      ]
    },
    {
      "cell_type": "markdown",
      "metadata": {
        "id": "d0caceCy_p1-"
      },
      "source": [
        "## 4. Check that the LM actually trained"
      ]
    },
    {
      "cell_type": "markdown",
      "metadata": {
        "id": "iIQJ8ND_AEhl"
      },
      "source": [
        "Aside from looking at the training and eval losses going down, the easiest way to check whether our language model is learning anything interesting is via the `FillMaskPipeline`.\n",
        "\n",
        "Pipelines are simple wrappers around tokenizers and models, and the 'fill-mask' one will let you input a sequence containing a masked token (here, `<mask>`) and return a list of the most probable filled sequences, with their probabilities.\n",
        "\n"
      ]
    },
    {
      "cell_type": "code",
      "metadata": {
        "id": "ltXgXyCbAJLY",
        "colab": {
          "base_uri": "https://localhost:8080/"
        },
        "outputId": "a6949dc0-5a6b-46f3-9252-57996591d5bf"
      },
      "source": [
        "from transformers import pipeline\n",
        "\n",
        "fill_mask = pipeline(\n",
        "    \"fill-mask\",\n",
        "    model=\"./EsperBERTo\",\n",
        "    tokenizer=\"./EsperBERTo\"\n",
        ")"
      ],
      "execution_count": null,
      "outputs": [
        {
          "output_type": "stream",
          "name": "stderr",
          "text": [
            "loading configuration file ./EsperBERTo/config.json\n",
            "Model config RobertaConfig {\n",
            "  \"_name_or_path\": \"./EsperBERTo\",\n",
            "  \"architectures\": [\n",
            "    \"RobertaForMaskedLM\"\n",
            "  ],\n",
            "  \"attention_probs_dropout_prob\": 0.1,\n",
            "  \"bos_token_id\": 0,\n",
            "  \"classifier_dropout\": null,\n",
            "  \"eos_token_id\": 2,\n",
            "  \"hidden_act\": \"gelu\",\n",
            "  \"hidden_dropout_prob\": 0.1,\n",
            "  \"hidden_size\": 768,\n",
            "  \"initializer_range\": 0.02,\n",
            "  \"intermediate_size\": 3072,\n",
            "  \"layer_norm_eps\": 1e-12,\n",
            "  \"max_position_embeddings\": 514,\n",
            "  \"model_type\": \"roberta\",\n",
            "  \"num_attention_heads\": 6,\n",
            "  \"num_hidden_layers\": 2,\n",
            "  \"pad_token_id\": 1,\n",
            "  \"position_embedding_type\": \"absolute\",\n",
            "  \"torch_dtype\": \"float32\",\n",
            "  \"transformers_version\": \"4.19.0.dev0\",\n",
            "  \"type_vocab_size\": 1,\n",
            "  \"use_cache\": true,\n",
            "  \"vocab_size\": 52000\n",
            "}\n",
            "\n",
            "loading configuration file ./EsperBERTo/config.json\n",
            "Model config RobertaConfig {\n",
            "  \"_name_or_path\": \"./EsperBERTo\",\n",
            "  \"architectures\": [\n",
            "    \"RobertaForMaskedLM\"\n",
            "  ],\n",
            "  \"attention_probs_dropout_prob\": 0.1,\n",
            "  \"bos_token_id\": 0,\n",
            "  \"classifier_dropout\": null,\n",
            "  \"eos_token_id\": 2,\n",
            "  \"hidden_act\": \"gelu\",\n",
            "  \"hidden_dropout_prob\": 0.1,\n",
            "  \"hidden_size\": 768,\n",
            "  \"initializer_range\": 0.02,\n",
            "  \"intermediate_size\": 3072,\n",
            "  \"layer_norm_eps\": 1e-12,\n",
            "  \"max_position_embeddings\": 514,\n",
            "  \"model_type\": \"roberta\",\n",
            "  \"num_attention_heads\": 6,\n",
            "  \"num_hidden_layers\": 2,\n",
            "  \"pad_token_id\": 1,\n",
            "  \"position_embedding_type\": \"absolute\",\n",
            "  \"torch_dtype\": \"float32\",\n",
            "  \"transformers_version\": \"4.19.0.dev0\",\n",
            "  \"type_vocab_size\": 1,\n",
            "  \"use_cache\": true,\n",
            "  \"vocab_size\": 52000\n",
            "}\n",
            "\n",
            "loading weights file ./EsperBERTo/pytorch_model.bin\n",
            "All model checkpoint weights were used when initializing RobertaForMaskedLM.\n",
            "\n",
            "All the weights of RobertaForMaskedLM were initialized from the model checkpoint at ./EsperBERTo.\n",
            "If your task is similar to the task the model of the checkpoint was trained on, you can already use RobertaForMaskedLM for predictions without further training.\n",
            "Could not locate the tokenizer configuration file, will try to use the model config instead.\n",
            "loading configuration file ./EsperBERTo/config.json\n",
            "Model config RobertaConfig {\n",
            "  \"_name_or_path\": \"./EsperBERTo\",\n",
            "  \"architectures\": [\n",
            "    \"RobertaForMaskedLM\"\n",
            "  ],\n",
            "  \"attention_probs_dropout_prob\": 0.1,\n",
            "  \"bos_token_id\": 0,\n",
            "  \"classifier_dropout\": null,\n",
            "  \"eos_token_id\": 2,\n",
            "  \"hidden_act\": \"gelu\",\n",
            "  \"hidden_dropout_prob\": 0.1,\n",
            "  \"hidden_size\": 768,\n",
            "  \"initializer_range\": 0.02,\n",
            "  \"intermediate_size\": 3072,\n",
            "  \"layer_norm_eps\": 1e-12,\n",
            "  \"max_position_embeddings\": 514,\n",
            "  \"model_type\": \"roberta\",\n",
            "  \"num_attention_heads\": 6,\n",
            "  \"num_hidden_layers\": 2,\n",
            "  \"pad_token_id\": 1,\n",
            "  \"position_embedding_type\": \"absolute\",\n",
            "  \"torch_dtype\": \"float32\",\n",
            "  \"transformers_version\": \"4.19.0.dev0\",\n",
            "  \"type_vocab_size\": 1,\n",
            "  \"use_cache\": true,\n",
            "  \"vocab_size\": 52000\n",
            "}\n",
            "\n",
            "Didn't find file ./EsperBERTo/tokenizer.json. We won't load it.\n",
            "Didn't find file ./EsperBERTo/added_tokens.json. We won't load it.\n",
            "Didn't find file ./EsperBERTo/special_tokens_map.json. We won't load it.\n",
            "Didn't find file ./EsperBERTo/tokenizer_config.json. We won't load it.\n",
            "loading file ./EsperBERTo/vocab.json\n",
            "loading file ./EsperBERTo/merges.txt\n",
            "loading file None\n",
            "loading file None\n",
            "loading file None\n",
            "loading file None\n",
            "loading configuration file ./EsperBERTo/config.json\n",
            "Model config RobertaConfig {\n",
            "  \"_name_or_path\": \"./EsperBERTo\",\n",
            "  \"architectures\": [\n",
            "    \"RobertaForMaskedLM\"\n",
            "  ],\n",
            "  \"attention_probs_dropout_prob\": 0.1,\n",
            "  \"bos_token_id\": 0,\n",
            "  \"classifier_dropout\": null,\n",
            "  \"eos_token_id\": 2,\n",
            "  \"hidden_act\": \"gelu\",\n",
            "  \"hidden_dropout_prob\": 0.1,\n",
            "  \"hidden_size\": 768,\n",
            "  \"initializer_range\": 0.02,\n",
            "  \"intermediate_size\": 3072,\n",
            "  \"layer_norm_eps\": 1e-12,\n",
            "  \"max_position_embeddings\": 514,\n",
            "  \"model_type\": \"roberta\",\n",
            "  \"num_attention_heads\": 6,\n",
            "  \"num_hidden_layers\": 2,\n",
            "  \"pad_token_id\": 1,\n",
            "  \"position_embedding_type\": \"absolute\",\n",
            "  \"torch_dtype\": \"float32\",\n",
            "  \"transformers_version\": \"4.19.0.dev0\",\n",
            "  \"type_vocab_size\": 1,\n",
            "  \"use_cache\": true,\n",
            "  \"vocab_size\": 52000\n",
            "}\n",
            "\n",
            "loading configuration file ./EsperBERTo/config.json\n",
            "Model config RobertaConfig {\n",
            "  \"_name_or_path\": \"./EsperBERTo\",\n",
            "  \"architectures\": [\n",
            "    \"RobertaForMaskedLM\"\n",
            "  ],\n",
            "  \"attention_probs_dropout_prob\": 0.1,\n",
            "  \"bos_token_id\": 0,\n",
            "  \"classifier_dropout\": null,\n",
            "  \"eos_token_id\": 2,\n",
            "  \"hidden_act\": \"gelu\",\n",
            "  \"hidden_dropout_prob\": 0.1,\n",
            "  \"hidden_size\": 768,\n",
            "  \"initializer_range\": 0.02,\n",
            "  \"intermediate_size\": 3072,\n",
            "  \"layer_norm_eps\": 1e-12,\n",
            "  \"max_position_embeddings\": 514,\n",
            "  \"model_type\": \"roberta\",\n",
            "  \"num_attention_heads\": 6,\n",
            "  \"num_hidden_layers\": 2,\n",
            "  \"pad_token_id\": 1,\n",
            "  \"position_embedding_type\": \"absolute\",\n",
            "  \"torch_dtype\": \"float32\",\n",
            "  \"transformers_version\": \"4.19.0.dev0\",\n",
            "  \"type_vocab_size\": 1,\n",
            "  \"use_cache\": true,\n",
            "  \"vocab_size\": 52000\n",
            "}\n",
            "\n"
          ]
        }
      ]
    },
    {
      "cell_type": "code",
      "metadata": {
        "id": "UIvgZ3S6AO0z",
        "colab": {
          "base_uri": "https://localhost:8080/"
        },
        "outputId": "bd4aa883-43b9-4ccd-d51c-e09a750d9813"
      },
      "source": [
        "# The sun <mask>.\n",
        "# =>\n",
        "\n",
        "fill_mask(\"La suno <mask>.\")"
      ],
      "execution_count": null,
      "outputs": [
        {
          "output_type": "execute_result",
          "data": {
            "text/plain": [
              "[{'score': 0.03490737825632095,\n",
              "  'sequence': 'La suno la.',\n",
              "  'token': 263,\n",
              "  'token_str': ' la'},\n",
              " {'score': 0.033951349556446075,\n",
              "  'sequence': 'La suno..',\n",
              "  'token': 18,\n",
              "  'token_str': '.'},\n",
              " {'score': 0.02805059216916561,\n",
              "  'sequence': 'La suno,.',\n",
              "  'token': 16,\n",
              "  'token_str': ','},\n",
              " {'score': 0.013802693225443363,\n",
              "  'sequence': 'La suno estas.',\n",
              "  'token': 312,\n",
              "  'token_str': ' estas'},\n",
              " {'score': 0.013699845410883427,\n",
              "  'sequence': 'La suno de.',\n",
              "  'token': 274,\n",
              "  'token_str': ' de'}]"
            ]
          },
          "metadata": {},
          "execution_count": 45
        }
      ]
    },
    {
      "cell_type": "markdown",
      "metadata": {
        "id": "i0qCyyhNAWZi"
      },
      "source": [
        "Ok, simple syntax/grammar works. Let’s try a slightly more interesting prompt:\n",
        "\n"
      ]
    },
    {
      "cell_type": "code",
      "metadata": {
        "id": "YZ9HSQxAAbme",
        "colab": {
          "base_uri": "https://localhost:8080/"
        },
        "outputId": "5db1da1c-f6e7-4aa8-e482-7b87695afe63"
      },
      "source": [
        "fill_mask(\"Jen la komenco de bela <mask>.\")\n",
        "\n",
        "# This is the beginning of a beautiful <mask>.\n",
        "# =>"
      ],
      "execution_count": null,
      "outputs": [
        {
          "output_type": "execute_result",
          "data": {
            "text/plain": [
              "[{'score': 0.11989902704954147,\n",
              "  'sequence': 'Jen la komenco de bela la.',\n",
              "  'token': 263,\n",
              "  'token_str': ' la'},\n",
              " {'score': 0.06133533641695976,\n",
              "  'sequence': 'Jen la komenco de bela de.',\n",
              "  'token': 274,\n",
              "  'token_str': ' de'},\n",
              " {'score': 0.025680318474769592,\n",
              "  'sequence': 'Jen la komenco de bela,.',\n",
              "  'token': 16,\n",
              "  'token_str': ','},\n",
              " {'score': 0.020171424373984337,\n",
              "  'sequence': 'Jen la komenco de bela..',\n",
              "  'token': 18,\n",
              "  'token_str': '.'},\n",
              " {'score': 0.01659487932920456,\n",
              "  'sequence': 'Jen la komenco de bela kaj.',\n",
              "  'token': 289,\n",
              "  'token_str': ' kaj'}]"
            ]
          },
          "metadata": {},
          "execution_count": 46
        }
      ]
    },
    {
      "cell_type": "code",
      "source": [
        "!pip install -U sentence-transformers\n",
        "\n"
      ],
      "metadata": {
        "id": "73tiEfovfAsP",
        "outputId": "69e45862-50ba-4317-d627-280f4e1554cc",
        "colab": {
          "base_uri": "https://localhost:8080/"
        }
      },
      "execution_count": null,
      "outputs": [
        {
          "output_type": "stream",
          "name": "stdout",
          "text": [
            "Collecting sentence-transformers\n",
            "  Downloading sentence-transformers-2.2.0.tar.gz (79 kB)\n",
            "\u001b[?25l\r\u001b[K     |████▏                           | 10 kB 20.8 MB/s eta 0:00:01\r\u001b[K     |████████▎                       | 20 kB 25.4 MB/s eta 0:00:01\r\u001b[K     |████████████▍                   | 30 kB 12.4 MB/s eta 0:00:01\r\u001b[K     |████████████████▌               | 40 kB 4.8 MB/s eta 0:00:01\r\u001b[K     |████████████████████▋           | 51 kB 4.5 MB/s eta 0:00:01\r\u001b[K     |████████████████████████▊       | 61 kB 5.3 MB/s eta 0:00:01\r\u001b[K     |████████████████████████████▉   | 71 kB 5.9 MB/s eta 0:00:01\r\u001b[K     |████████████████████████████████| 79 kB 3.8 MB/s \n",
            "\u001b[?25hRequirement already satisfied: transformers<5.0.0,>=4.6.0 in /usr/local/lib/python3.7/dist-packages (from sentence-transformers) (4.19.0.dev0)\n",
            "Requirement already satisfied: tqdm in /usr/local/lib/python3.7/dist-packages (from sentence-transformers) (4.63.0)\n",
            "Requirement already satisfied: torch>=1.6.0 in /usr/local/lib/python3.7/dist-packages (from sentence-transformers) (1.10.0+cu111)\n",
            "Requirement already satisfied: torchvision in /usr/local/lib/python3.7/dist-packages (from sentence-transformers) (0.11.1+cu111)\n",
            "Requirement already satisfied: numpy in /usr/local/lib/python3.7/dist-packages (from sentence-transformers) (1.21.5)\n",
            "Requirement already satisfied: scikit-learn in /usr/local/lib/python3.7/dist-packages (from sentence-transformers) (1.0.2)\n",
            "Requirement already satisfied: scipy in /usr/local/lib/python3.7/dist-packages (from sentence-transformers) (1.4.1)\n",
            "Requirement already satisfied: nltk in /usr/local/lib/python3.7/dist-packages (from sentence-transformers) (3.2.5)\n",
            "Collecting sentencepiece\n",
            "  Downloading sentencepiece-0.1.96-cp37-cp37m-manylinux_2_17_x86_64.manylinux2014_x86_64.whl (1.2 MB)\n",
            "\u001b[K     |████████████████████████████████| 1.2 MB 11.0 MB/s \n",
            "\u001b[?25hRequirement already satisfied: huggingface-hub in /usr/local/lib/python3.7/dist-packages (from sentence-transformers) (0.5.1)\n",
            "Requirement already satisfied: typing-extensions in /usr/local/lib/python3.7/dist-packages (from torch>=1.6.0->sentence-transformers) (3.10.0.2)\n",
            "Requirement already satisfied: pyyaml>=5.1 in /usr/local/lib/python3.7/dist-packages (from transformers<5.0.0,>=4.6.0->sentence-transformers) (6.0)\n",
            "Requirement already satisfied: packaging>=20.0 in /usr/local/lib/python3.7/dist-packages (from transformers<5.0.0,>=4.6.0->sentence-transformers) (21.3)\n",
            "Requirement already satisfied: tokenizers!=0.11.3,<0.13,>=0.11.1 in /usr/local/lib/python3.7/dist-packages (from transformers<5.0.0,>=4.6.0->sentence-transformers) (0.11.6)\n",
            "Requirement already satisfied: sacremoses in /usr/local/lib/python3.7/dist-packages (from transformers<5.0.0,>=4.6.0->sentence-transformers) (0.0.49)\n",
            "Requirement already satisfied: importlib-metadata in /usr/local/lib/python3.7/dist-packages (from transformers<5.0.0,>=4.6.0->sentence-transformers) (4.11.3)\n",
            "Requirement already satisfied: requests in /usr/local/lib/python3.7/dist-packages (from transformers<5.0.0,>=4.6.0->sentence-transformers) (2.23.0)\n",
            "Requirement already satisfied: filelock in /usr/local/lib/python3.7/dist-packages (from transformers<5.0.0,>=4.6.0->sentence-transformers) (3.6.0)\n",
            "Requirement already satisfied: regex!=2019.12.17 in /usr/local/lib/python3.7/dist-packages (from transformers<5.0.0,>=4.6.0->sentence-transformers) (2019.12.20)\n",
            "Requirement already satisfied: pyparsing!=3.0.5,>=2.0.2 in /usr/local/lib/python3.7/dist-packages (from packaging>=20.0->transformers<5.0.0,>=4.6.0->sentence-transformers) (3.0.7)\n",
            "Requirement already satisfied: zipp>=0.5 in /usr/local/lib/python3.7/dist-packages (from importlib-metadata->transformers<5.0.0,>=4.6.0->sentence-transformers) (3.7.0)\n",
            "Requirement already satisfied: six in /usr/local/lib/python3.7/dist-packages (from nltk->sentence-transformers) (1.15.0)\n",
            "Requirement already satisfied: urllib3!=1.25.0,!=1.25.1,<1.26,>=1.21.1 in /usr/local/lib/python3.7/dist-packages (from requests->transformers<5.0.0,>=4.6.0->sentence-transformers) (1.24.3)\n",
            "Requirement already satisfied: idna<3,>=2.5 in /usr/local/lib/python3.7/dist-packages (from requests->transformers<5.0.0,>=4.6.0->sentence-transformers) (2.10)\n",
            "Requirement already satisfied: certifi>=2017.4.17 in /usr/local/lib/python3.7/dist-packages (from requests->transformers<5.0.0,>=4.6.0->sentence-transformers) (2021.10.8)\n",
            "Requirement already satisfied: chardet<4,>=3.0.2 in /usr/local/lib/python3.7/dist-packages (from requests->transformers<5.0.0,>=4.6.0->sentence-transformers) (3.0.4)\n",
            "Requirement already satisfied: joblib in /usr/local/lib/python3.7/dist-packages (from sacremoses->transformers<5.0.0,>=4.6.0->sentence-transformers) (1.1.0)\n",
            "Requirement already satisfied: click in /usr/local/lib/python3.7/dist-packages (from sacremoses->transformers<5.0.0,>=4.6.0->sentence-transformers) (7.1.2)\n",
            "Requirement already satisfied: threadpoolctl>=2.0.0 in /usr/local/lib/python3.7/dist-packages (from scikit-learn->sentence-transformers) (3.1.0)\n",
            "Requirement already satisfied: pillow!=8.3.0,>=5.3.0 in /usr/local/lib/python3.7/dist-packages (from torchvision->sentence-transformers) (7.1.2)\n",
            "Building wheels for collected packages: sentence-transformers\n",
            "  Building wheel for sentence-transformers (setup.py) ... \u001b[?25l\u001b[?25hdone\n",
            "  Created wheel for sentence-transformers: filename=sentence_transformers-2.2.0-py3-none-any.whl size=120747 sha256=836a29ad4e9d8173e24a829bbab1d3679989ba19a24e9b520c50aa65805cac58\n",
            "  Stored in directory: /root/.cache/pip/wheels/83/c0/df/b6873ab7aac3f2465aa9144b6b4c41c4391cfecc027c8b07e7\n",
            "Successfully built sentence-transformers\n",
            "Installing collected packages: sentencepiece, sentence-transformers\n",
            "Successfully installed sentence-transformers-2.2.0 sentencepiece-0.1.96\n"
          ]
        }
      ]
    },
    {
      "cell_type": "code",
      "source": [
        "from sentence_transformers import SentenceTransformer, util\n",
        "sentences = [\"Jen la komenco de bela kaj\", \"Jen la komenco de bela de\"]\n",
        "\n",
        "model = SentenceTransformer('./EsperBERTo')\n",
        "\n"
      ],
      "metadata": {
        "id": "QMgzQvrefOH0",
        "outputId": "56fada58-5499-4dfa-e5f2-104acfaed68e",
        "colab": {
          "base_uri": "https://localhost:8080/"
        }
      },
      "execution_count": null,
      "outputs": [
        {
          "output_type": "stream",
          "name": "stderr",
          "text": [
            "WARNING:root:No sentence-transformers model found with name ./EsperBERTo. Creating a new one with MEAN pooling.\n",
            "loading configuration file ./EsperBERTo/config.json\n",
            "Model config RobertaConfig {\n",
            "  \"_name_or_path\": \"./EsperBERTo\",\n",
            "  \"architectures\": [\n",
            "    \"RobertaForMaskedLM\"\n",
            "  ],\n",
            "  \"attention_probs_dropout_prob\": 0.1,\n",
            "  \"bos_token_id\": 0,\n",
            "  \"classifier_dropout\": null,\n",
            "  \"eos_token_id\": 2,\n",
            "  \"hidden_act\": \"gelu\",\n",
            "  \"hidden_dropout_prob\": 0.1,\n",
            "  \"hidden_size\": 768,\n",
            "  \"initializer_range\": 0.02,\n",
            "  \"intermediate_size\": 3072,\n",
            "  \"layer_norm_eps\": 1e-12,\n",
            "  \"max_position_embeddings\": 514,\n",
            "  \"model_type\": \"roberta\",\n",
            "  \"num_attention_heads\": 6,\n",
            "  \"num_hidden_layers\": 2,\n",
            "  \"pad_token_id\": 1,\n",
            "  \"position_embedding_type\": \"absolute\",\n",
            "  \"torch_dtype\": \"float32\",\n",
            "  \"transformers_version\": \"4.19.0.dev0\",\n",
            "  \"type_vocab_size\": 1,\n",
            "  \"use_cache\": true,\n",
            "  \"vocab_size\": 52000\n",
            "}\n",
            "\n",
            "loading weights file ./EsperBERTo/pytorch_model.bin\n",
            "Some weights of the model checkpoint at ./EsperBERTo were not used when initializing RobertaModel: ['lm_head.dense.weight', 'lm_head.layer_norm.weight', 'lm_head.layer_norm.bias', 'lm_head.dense.bias', 'lm_head.bias']\n",
            "- This IS expected if you are initializing RobertaModel from the checkpoint of a model trained on another task or with another architecture (e.g. initializing a BertForSequenceClassification model from a BertForPreTraining model).\n",
            "- This IS NOT expected if you are initializing RobertaModel from the checkpoint of a model that you expect to be exactly identical (initializing a BertForSequenceClassification model from a BertForSequenceClassification model).\n",
            "Some weights of RobertaModel were not initialized from the model checkpoint at ./EsperBERTo and are newly initialized: ['roberta.pooler.dense.bias', 'roberta.pooler.dense.weight']\n",
            "You should probably TRAIN this model on a down-stream task to be able to use it for predictions and inference.\n",
            "Could not locate the tokenizer configuration file, will try to use the model config instead.\n",
            "loading configuration file ./EsperBERTo/config.json\n",
            "Model config RobertaConfig {\n",
            "  \"_name_or_path\": \"./EsperBERTo\",\n",
            "  \"architectures\": [\n",
            "    \"RobertaForMaskedLM\"\n",
            "  ],\n",
            "  \"attention_probs_dropout_prob\": 0.1,\n",
            "  \"bos_token_id\": 0,\n",
            "  \"classifier_dropout\": null,\n",
            "  \"eos_token_id\": 2,\n",
            "  \"hidden_act\": \"gelu\",\n",
            "  \"hidden_dropout_prob\": 0.1,\n",
            "  \"hidden_size\": 768,\n",
            "  \"initializer_range\": 0.02,\n",
            "  \"intermediate_size\": 3072,\n",
            "  \"layer_norm_eps\": 1e-12,\n",
            "  \"max_position_embeddings\": 514,\n",
            "  \"model_type\": \"roberta\",\n",
            "  \"num_attention_heads\": 6,\n",
            "  \"num_hidden_layers\": 2,\n",
            "  \"pad_token_id\": 1,\n",
            "  \"position_embedding_type\": \"absolute\",\n",
            "  \"torch_dtype\": \"float32\",\n",
            "  \"transformers_version\": \"4.19.0.dev0\",\n",
            "  \"type_vocab_size\": 1,\n",
            "  \"use_cache\": true,\n",
            "  \"vocab_size\": 52000\n",
            "}\n",
            "\n",
            "Didn't find file ./EsperBERTo/tokenizer.json. We won't load it.\n",
            "Didn't find file ./EsperBERTo/added_tokens.json. We won't load it.\n",
            "Didn't find file ./EsperBERTo/special_tokens_map.json. We won't load it.\n",
            "Didn't find file ./EsperBERTo/tokenizer_config.json. We won't load it.\n",
            "loading file ./EsperBERTo/vocab.json\n",
            "loading file ./EsperBERTo/merges.txt\n",
            "loading file None\n",
            "loading file None\n",
            "loading file None\n",
            "loading file None\n",
            "loading configuration file ./EsperBERTo/config.json\n",
            "Model config RobertaConfig {\n",
            "  \"_name_or_path\": \"./EsperBERTo\",\n",
            "  \"architectures\": [\n",
            "    \"RobertaForMaskedLM\"\n",
            "  ],\n",
            "  \"attention_probs_dropout_prob\": 0.1,\n",
            "  \"bos_token_id\": 0,\n",
            "  \"classifier_dropout\": null,\n",
            "  \"eos_token_id\": 2,\n",
            "  \"hidden_act\": \"gelu\",\n",
            "  \"hidden_dropout_prob\": 0.1,\n",
            "  \"hidden_size\": 768,\n",
            "  \"initializer_range\": 0.02,\n",
            "  \"intermediate_size\": 3072,\n",
            "  \"layer_norm_eps\": 1e-12,\n",
            "  \"max_position_embeddings\": 514,\n",
            "  \"model_type\": \"roberta\",\n",
            "  \"num_attention_heads\": 6,\n",
            "  \"num_hidden_layers\": 2,\n",
            "  \"pad_token_id\": 1,\n",
            "  \"position_embedding_type\": \"absolute\",\n",
            "  \"torch_dtype\": \"float32\",\n",
            "  \"transformers_version\": \"4.19.0.dev0\",\n",
            "  \"type_vocab_size\": 1,\n",
            "  \"use_cache\": true,\n",
            "  \"vocab_size\": 52000\n",
            "}\n",
            "\n",
            "loading configuration file ./EsperBERTo/config.json\n",
            "Model config RobertaConfig {\n",
            "  \"_name_or_path\": \"./EsperBERTo\",\n",
            "  \"architectures\": [\n",
            "    \"RobertaForMaskedLM\"\n",
            "  ],\n",
            "  \"attention_probs_dropout_prob\": 0.1,\n",
            "  \"bos_token_id\": 0,\n",
            "  \"classifier_dropout\": null,\n",
            "  \"eos_token_id\": 2,\n",
            "  \"hidden_act\": \"gelu\",\n",
            "  \"hidden_dropout_prob\": 0.1,\n",
            "  \"hidden_size\": 768,\n",
            "  \"initializer_range\": 0.02,\n",
            "  \"intermediate_size\": 3072,\n",
            "  \"layer_norm_eps\": 1e-12,\n",
            "  \"max_position_embeddings\": 514,\n",
            "  \"model_type\": \"roberta\",\n",
            "  \"num_attention_heads\": 6,\n",
            "  \"num_hidden_layers\": 2,\n",
            "  \"pad_token_id\": 1,\n",
            "  \"position_embedding_type\": \"absolute\",\n",
            "  \"torch_dtype\": \"float32\",\n",
            "  \"transformers_version\": \"4.19.0.dev0\",\n",
            "  \"type_vocab_size\": 1,\n",
            "  \"use_cache\": true,\n",
            "  \"vocab_size\": 52000\n",
            "}\n",
            "\n"
          ]
        },
        {
          "output_type": "execute_result",
          "data": {
            "text/plain": [
              "tensor([[0.9851]], device='cuda:0')"
            ]
          },
          "metadata": {},
          "execution_count": 48
        }
      ]
    },
    {
      "cell_type": "code",
      "source": [
        "#Compute embedding for both lists\n",
        "embedding_1= model.encode(sentences[0], convert_to_tensor=True)\n",
        "embedding_2 = model.encode(sentences[1], convert_to_tensor=True)\n",
        "print(embedding_1)\n",
        "print(embedding_2)\n",
        "\n",
        "similarity_score = util.pytorch_cos_sim(embedding_1, embedding_2)\n",
        "print(similarity_score)"
      ],
      "metadata": {
        "id": "q6Sra9_xfzwQ",
        "outputId": "7bf5bb9c-75a1-4875-fd40-7ba070e277e2",
        "colab": {
          "base_uri": "https://localhost:8080/"
        }
      },
      "execution_count": null,
      "outputs": [
        {
          "output_type": "stream",
          "name": "stdout",
          "text": [
            "tensor([ 6.7647e-02, -2.7150e-01,  7.1384e-02, -1.3003e+00,  2.5481e-01,\n",
            "         1.2021e+00,  5.1955e-01, -1.0686e-01, -5.4976e-01,  9.0433e-01,\n",
            "         2.5773e-01, -9.7574e-01,  5.4946e-01, -7.7796e-01,  1.6065e-02,\n",
            "        -1.0575e-01, -2.8278e-01,  4.4539e-01, -3.1802e-01, -1.5997e-02,\n",
            "         6.5231e-01,  2.1229e-01,  5.8867e-01,  2.0024e-01, -8.9666e-01,\n",
            "         6.7224e-01, -4.6224e-01,  5.3205e-01, -2.2242e-01,  1.0622e-01,\n",
            "        -1.5358e+00, -1.5666e-02,  5.2504e-01, -4.2108e-01, -3.0477e-01,\n",
            "        -6.4427e-02, -2.4412e-01,  8.8167e-01,  7.9454e-01, -6.9931e-02,\n",
            "         1.3487e+00,  2.5331e+00, -8.0193e-01,  3.1840e-01, -8.2675e-01,\n",
            "        -3.5407e-01, -2.0826e-02,  1.0666e+00,  2.1157e-01, -1.1698e-01,\n",
            "         1.4512e-02,  1.1938e-02, -6.5154e-01, -1.7209e-01, -3.1567e-01,\n",
            "         1.0932e-01, -2.5738e-01, -1.3288e+00, -1.8821e-01,  2.4962e-01,\n",
            "         1.0909e+00, -5.4440e-01, -1.3640e+00, -9.4460e-01,  9.9805e-02,\n",
            "         6.5921e-01,  1.3007e-01,  1.6571e-01,  9.5532e-01,  1.2034e+00,\n",
            "         1.2540e-03,  9.4115e-01, -9.4600e-01, -2.0925e-01,  4.9854e-01,\n",
            "         5.6121e-01, -2.8100e-02,  7.8478e-01,  7.6857e-01,  9.3917e-01,\n",
            "         6.9957e-01,  5.2073e-01, -1.0507e+00, -6.5756e-01,  3.7202e-01,\n",
            "        -9.1920e-02, -1.3696e-01, -3.0840e-01,  1.2425e+00, -1.3997e+00,\n",
            "        -3.5408e-01, -1.4970e-01,  2.6636e-01, -3.3481e-01,  2.5546e-01,\n",
            "         1.9720e+00,  1.0655e+00, -3.4700e-02, -8.8507e-01,  1.4029e-01,\n",
            "        -5.0851e-01,  3.2652e-02,  1.0119e+00, -3.2043e-01, -5.3475e-02,\n",
            "         3.1169e-01, -2.7382e-01, -6.2471e-02,  5.0544e-01,  4.6064e-01,\n",
            "         4.2975e-01,  7.1466e-01, -6.9846e-01,  1.1009e+00, -8.7119e-01,\n",
            "        -9.0999e-01,  6.2903e-01, -4.8410e-01,  9.5832e-02, -2.6037e-01,\n",
            "         3.6810e-01,  1.0333e-01, -1.8537e-01, -1.0403e+00, -1.7082e-01,\n",
            "         5.6715e-02, -1.6149e-01,  1.9239e+00,  2.0353e-01, -1.4298e+00,\n",
            "        -8.3833e-01, -3.8804e-01, -6.3887e-01,  6.3811e-02,  8.7955e-01,\n",
            "        -6.9385e-01, -2.1774e-01, -4.7518e-01,  7.1980e-01, -3.0281e-01,\n",
            "        -3.4795e-01, -9.1636e-01,  4.9846e-04,  9.2132e-01, -2.7908e-01,\n",
            "         5.1014e-02,  1.1064e-01,  6.6756e-02,  3.7582e-01, -1.1263e+00,\n",
            "        -1.0985e-01, -1.5794e-01,  1.5574e+00, -5.2105e-01, -4.5365e-01,\n",
            "        -1.8566e-01, -9.8939e-01, -2.6268e-01, -1.0144e+00,  8.7505e-02,\n",
            "        -5.7776e-01,  7.2876e-01,  9.8123e-01, -5.0185e-01, -7.1240e-01,\n",
            "         9.2033e-02, -5.6951e-01, -1.1328e-01, -2.4677e-01, -3.2321e-02,\n",
            "        -8.0694e-01, -1.2726e-01, -3.3048e-01,  6.8182e-01,  3.9586e-01,\n",
            "        -7.8014e-01, -5.1837e-01, -2.2834e-01,  3.3099e-01, -5.9753e-01,\n",
            "         3.3079e-02, -1.9083e-01, -6.4398e-01,  3.4740e-01,  3.7549e-01,\n",
            "        -3.0119e-01, -9.4450e-01,  2.9568e-01, -1.0165e+00,  1.0891e+00,\n",
            "         2.6702e-01, -6.6601e-03, -1.0381e+00,  1.4456e+00, -1.4317e+00,\n",
            "         1.2706e-03,  6.1916e-01, -1.4459e+00,  5.1901e-01,  1.2287e-01,\n",
            "        -6.1874e-02,  8.2721e-01, -6.9359e-02,  2.2708e-01,  2.7343e-01,\n",
            "        -1.1344e+00,  7.8272e-01, -6.0512e-02, -9.2502e-01,  2.7962e-01,\n",
            "        -9.3348e-01,  8.4508e-01,  6.9444e-01, -4.3899e-01, -5.5730e-01,\n",
            "         2.0700e-01,  6.2420e-01,  7.1964e-01, -8.0669e-04, -1.8246e-01,\n",
            "         4.6021e-01, -2.8062e-01, -6.9383e-03, -4.5188e-02, -3.6445e-01,\n",
            "         5.2397e-02, -3.6528e-01, -2.8379e-01, -8.9478e-01,  1.8463e-01,\n",
            "        -5.1712e-01,  4.8572e-01,  6.9890e-01,  3.8026e-01, -1.3036e-01,\n",
            "         9.0808e-01, -1.0118e+00, -1.6178e-01,  1.5773e-02,  1.2685e+00,\n",
            "         1.2595e-01,  3.4507e-02, -6.8480e-01, -1.8471e+00, -4.6240e-01,\n",
            "        -6.3473e-02, -3.0312e-01, -1.2838e+00,  8.5561e-01,  7.6636e-01,\n",
            "         5.7006e-01,  2.2385e-01,  1.0103e+00, -3.5894e-01, -5.2075e-01,\n",
            "         9.3307e-01, -1.7694e-01,  1.0629e+00, -1.1710e+00, -3.4363e-01,\n",
            "        -4.4568e-01,  7.8563e-01,  2.0799e-01, -9.4034e-01, -7.1763e-01,\n",
            "        -1.2349e-02, -6.6886e-01,  5.8694e-02, -2.8196e-01,  8.8728e-01,\n",
            "         4.1084e-01, -8.2185e-01,  1.4893e+00,  4.6532e-01, -8.3219e-01,\n",
            "        -4.7001e-01, -4.3819e-01, -8.8255e-01, -1.1875e-01, -5.2083e-01,\n",
            "        -3.4945e-01,  5.5388e-01,  9.9984e-01, -9.1846e-01, -2.6014e-01,\n",
            "         6.9657e-01,  8.9567e-01,  5.1281e-01, -9.7330e-01, -1.3864e+00,\n",
            "        -4.6008e-01, -3.0187e-01,  7.8994e-02,  8.4684e-01,  9.3580e-01,\n",
            "        -1.0224e+00, -5.5447e-01,  2.6082e-01, -1.4014e+00, -1.4312e-01,\n",
            "         6.9841e-01,  3.0131e-01,  1.3784e+00, -3.4730e-01, -1.1736e+00,\n",
            "        -1.0811e-01,  2.8410e-01,  1.7841e-02, -7.7145e-01, -3.6522e-02,\n",
            "        -1.0106e-01,  1.8539e-01,  8.6252e-01, -1.4849e-01, -1.5492e-01,\n",
            "        -3.6350e-01, -6.7457e-01, -1.4590e+00,  1.5266e-01,  1.4578e+00,\n",
            "         1.2694e+00,  5.3757e-01, -8.1622e-01, -5.3051e-01,  1.6848e-01,\n",
            "         2.7704e-01,  6.0318e-01, -2.0350e-02,  8.4521e-01,  4.5589e-01,\n",
            "         1.5023e-02,  1.9967e-01, -1.7053e-01,  2.9014e-01,  7.2829e-01,\n",
            "        -1.0758e+00, -2.0794e-01,  3.2584e-01, -5.2429e-01, -5.4082e-01,\n",
            "         1.0537e+00, -4.6817e-01,  1.0332e+00,  1.8926e-01,  2.4578e-02,\n",
            "        -8.5627e-01,  9.1478e-01, -5.7078e-01, -9.4129e-01,  5.5494e-01,\n",
            "         4.1621e-02, -1.3510e-01,  5.0769e-01,  4.7431e-01, -7.1219e-02,\n",
            "         1.2507e-01, -7.6025e-01, -3.2544e-01,  2.5541e-01,  6.0154e-01,\n",
            "        -4.1036e-01,  1.6198e+00, -3.5888e-01, -7.9786e-01, -6.3257e-01,\n",
            "        -8.8428e-01, -1.1164e+00, -2.8311e-01, -1.2254e+00,  3.5900e-01,\n",
            "         3.8425e-01, -6.3067e-01, -3.7840e-01,  1.0195e+00,  8.8112e-01,\n",
            "        -1.3719e+00,  5.6757e-02,  2.5943e-01,  9.9203e-02,  3.9111e-01,\n",
            "        -1.2018e-01,  3.8096e-01,  1.8430e-02,  8.4137e-01,  8.6464e-02,\n",
            "        -5.2500e-01,  1.5984e-01,  1.8040e-01,  4.6126e-01, -6.7534e-01,\n",
            "         1.1423e+00,  8.2336e-01,  1.2343e-01,  6.5535e-01, -4.5023e-02,\n",
            "         3.5915e-01,  5.1329e-01, -5.5745e-01, -5.7948e-01, -3.4672e-01,\n",
            "        -8.2901e-02, -5.5817e-01,  3.5119e-01,  4.6935e-01, -8.3720e-01,\n",
            "        -4.6590e-01,  3.4476e-02,  2.9430e-01, -1.2352e+00,  7.4227e-01,\n",
            "         3.0293e-02, -1.3200e+00, -3.0631e-01,  1.7338e-01,  1.3623e+00,\n",
            "        -4.3592e-01,  4.8923e-01,  4.9494e-02,  2.6915e-02, -1.8916e-01,\n",
            "         6.1720e-01,  2.1320e-01, -1.6197e+00,  5.9506e-01, -8.5530e-01,\n",
            "         9.7124e-01,  2.1609e-02,  3.3468e-03,  5.7414e-01,  1.3654e+00,\n",
            "         3.5652e-01, -1.0102e+00, -5.5436e-02,  7.6475e-01,  5.2631e-01,\n",
            "         1.9327e-01, -1.0381e-01, -9.5405e-02, -8.1472e-01, -4.0489e-01,\n",
            "        -3.5694e-01, -3.1866e-02, -3.5407e-01, -9.8836e-01,  1.1539e+00,\n",
            "         1.2644e-01, -2.1015e-01,  4.1303e-02,  9.6558e-01,  3.6561e-01,\n",
            "        -5.5882e-01,  1.5850e+00, -2.1889e-01, -3.4959e-01,  1.5041e+00,\n",
            "         4.5553e-01, -8.7521e-03, -1.2294e-01,  6.7345e-01,  1.4561e-01,\n",
            "         9.3152e-01,  4.0678e-01,  5.6043e-02,  2.4610e-01,  6.1103e-01,\n",
            "         5.7647e-01,  1.0823e+00, -9.3336e-01,  7.2038e-02, -6.2995e-01,\n",
            "         1.8248e-02, -9.5552e-02, -8.5602e-01, -9.0209e-02,  1.4073e-01,\n",
            "         8.5027e-02, -5.8392e-01,  5.9055e-01, -9.2913e-01,  1.5367e+00,\n",
            "        -7.4324e-01,  7.2628e-01,  3.0832e-01, -2.7601e-01,  4.5143e-01,\n",
            "        -9.5819e-01,  8.1581e-01,  4.4810e-01,  5.4123e-01,  1.9776e-01,\n",
            "        -3.6274e-02,  3.3361e-01, -7.0972e-01, -7.9541e-01, -2.2982e-01,\n",
            "        -8.4564e-01,  1.0338e+00, -9.3051e-01,  1.2506e+00,  1.1537e-02,\n",
            "         3.5148e-01, -7.3094e-01,  3.3144e-02, -5.9195e-01, -2.9456e-01,\n",
            "        -7.3586e-02, -6.1481e-01,  8.1764e-02, -1.5528e+00,  2.0717e-01,\n",
            "        -1.2719e+00, -4.9810e-01,  1.0804e+00, -1.6898e+00, -1.1226e+00,\n",
            "        -8.6384e-02, -7.9332e-02, -2.3413e-01, -1.1913e+00,  5.9813e-01,\n",
            "        -3.7962e-02, -1.8662e+00, -7.7188e-01,  7.2824e-01,  7.6894e-01,\n",
            "         1.0522e+00, -7.8494e-01, -9.6436e-02,  3.0522e-01, -5.6836e-01,\n",
            "         1.0988e+00,  6.8021e-01, -7.8636e-01,  8.4506e-01, -6.4935e-01,\n",
            "        -1.8794e-01,  3.5153e-01, -2.2033e-01,  5.4742e-01, -1.1761e-02,\n",
            "        -1.0475e+00, -1.6362e+00, -9.7026e-01, -5.8652e-01, -9.4757e-01,\n",
            "         9.4642e-01,  1.5335e-01,  7.9185e-01,  8.7137e-01,  1.1315e+00,\n",
            "        -5.2965e-01,  1.4968e+00, -6.6037e-01,  9.5924e-01, -9.5169e-01,\n",
            "        -2.4229e-01, -7.2566e-01,  8.3358e-01,  2.4999e-01,  1.7705e+00,\n",
            "        -1.5311e+00,  9.2033e-03,  7.0516e-02, -3.1306e-01,  1.1218e+00,\n",
            "         4.1957e-01, -1.9591e-01, -2.5268e-01,  2.6524e-01,  5.3154e-01,\n",
            "         1.2172e+00,  8.0977e-01,  7.1185e-02,  4.1167e-01, -3.4387e-01,\n",
            "        -4.7884e-01,  1.8111e-01,  1.2282e-01, -6.3331e-01, -6.4715e-02,\n",
            "        -4.9501e-01, -8.2590e-01,  1.5021e+00,  3.9803e-01,  3.8858e-01,\n",
            "        -3.3800e-02,  5.0815e-02,  3.8622e-01,  5.4324e-01,  1.2044e+00,\n",
            "         3.2197e-02, -7.7150e-01, -1.0870e+00, -1.5174e+00,  4.9540e-01,\n",
            "         1.5846e-01, -4.3646e-01,  5.1359e-02, -8.0024e-01,  4.8179e-02,\n",
            "         1.6703e+00, -4.5249e-01, -5.5447e-01,  2.7447e-01, -8.6584e-01,\n",
            "         7.4211e-01,  4.6598e-01,  3.4385e-01, -5.9177e-01, -7.1344e-01,\n",
            "         6.6501e-01, -2.8193e-01,  4.7485e-01, -3.6774e-01,  3.0668e-01,\n",
            "        -2.4119e-01,  7.0559e-01,  4.5905e-01,  3.8930e-01,  1.2186e+00,\n",
            "        -2.8324e-01, -6.2632e-01,  1.2853e+00,  1.5733e-01,  6.8116e-01,\n",
            "        -5.9494e-01, -4.3194e-01, -1.1251e+00, -1.8563e+00, -7.2588e-01,\n",
            "        -1.8268e+00, -8.5913e-01,  9.5421e-01, -5.1211e-01,  7.1436e-01,\n",
            "         4.1832e-01, -5.6841e-01, -3.2443e-01, -9.1625e-03,  1.1396e+00,\n",
            "        -1.7925e-01, -5.2913e-01, -7.3820e-02,  5.2848e-01,  1.3398e-01,\n",
            "         9.4121e-01, -7.5608e-01,  5.2640e-01,  1.7213e-01, -2.1088e-01,\n",
            "         8.2210e-01,  8.3753e-01,  9.7147e-02,  6.0280e-01, -2.3597e-01,\n",
            "        -1.3794e+00,  3.7182e-01, -8.0217e-01, -6.4798e-01, -4.8946e-01,\n",
            "         5.2276e-02,  5.7311e-01,  3.1855e-01,  7.8978e-01,  1.2837e+00,\n",
            "         2.8770e-01,  5.4877e-01,  4.1388e-01, -1.8281e-01,  1.5955e+00,\n",
            "         3.2428e-01, -4.8649e-01,  4.3919e-01,  6.1588e-01, -1.0372e+00,\n",
            "         1.1390e+00,  1.0962e-01, -6.0957e-01, -2.7455e-01, -4.1676e-01,\n",
            "        -1.5905e-01, -1.1542e+00, -8.6187e-01, -2.4884e-01,  1.0483e-01,\n",
            "        -8.8790e-01, -2.7271e-01,  1.6461e+00, -4.8031e-01, -2.2759e-01,\n",
            "        -2.7954e-01, -3.9136e-01, -1.2253e-01, -2.4994e-01, -3.4312e-01,\n",
            "        -1.0954e+00, -3.3839e-01, -4.0839e-01, -1.0105e+00, -5.7037e-01,\n",
            "        -8.5676e-01,  6.3654e-03,  1.2869e+00,  3.4864e-01,  2.6758e-01,\n",
            "        -8.0459e-01, -5.0748e-01, -2.7827e-01,  3.8947e-01, -1.1098e+00,\n",
            "         3.1162e-01,  1.5369e+00, -5.1235e-01,  8.0179e-02,  7.3291e-01,\n",
            "         4.9775e-01, -3.4701e-01, -1.1855e+00,  5.5745e-01, -5.1393e-01,\n",
            "         1.0491e+00,  1.1367e-01, -1.8260e-01, -3.4496e-01,  9.2819e-01,\n",
            "        -1.8983e-01, -9.4078e-01, -8.6773e-01, -2.4964e-01, -3.8734e-01,\n",
            "        -4.6254e-01,  7.3346e-01,  7.8942e-01,  1.0104e+00,  6.5204e-01,\n",
            "         1.2622e-01,  2.1937e-01, -3.8333e-01,  3.3514e-01, -6.2199e-02,\n",
            "         4.1506e-01,  2.3072e-01,  2.0653e-01, -1.0167e+00,  6.0590e-01,\n",
            "         6.8381e-01,  5.3358e-02,  2.5431e-01,  5.0586e-01, -1.2338e+00,\n",
            "         3.3331e-01, -3.3149e-01, -8.3274e-01,  3.4297e-01,  2.6545e-01,\n",
            "        -6.3841e-01,  7.4623e-01,  1.4996e+00, -3.9422e-03,  7.9580e-02,\n",
            "        -2.3933e-02, -2.2629e-02,  5.7031e-01, -3.1943e-01,  1.6714e-01,\n",
            "         3.5173e-01,  5.7790e-01,  6.3509e-01], device='cuda:0')\n",
            "tensor([ 7.6931e-02, -2.6300e-01,  1.8909e-01, -1.3000e+00,  1.8195e-01,\n",
            "         1.3495e+00,  4.8230e-01, -1.3266e-01, -7.0630e-01,  7.8580e-01,\n",
            "         2.3627e-01, -8.6444e-01,  4.7795e-01, -9.2576e-01, -3.3369e-02,\n",
            "         1.5416e-01, -2.9598e-01,  4.3121e-01, -5.2142e-01,  1.9754e-02,\n",
            "         7.2746e-01,  2.2662e-01,  5.7460e-01,  1.0813e-01, -9.1933e-01,\n",
            "         5.8197e-01, -2.9010e-01,  5.4126e-01, -1.6614e-02,  1.4578e-01,\n",
            "        -1.6193e+00, -2.8544e-02,  4.5659e-01, -4.8214e-01, -1.6538e-01,\n",
            "        -2.6565e-01, -2.0106e-01,  8.8651e-01,  8.1331e-01,  7.0507e-03,\n",
            "         1.2675e+00,  2.4268e+00, -8.2661e-01,  3.1717e-01, -7.1374e-01,\n",
            "        -3.6202e-01,  9.2935e-02,  1.1356e+00,  3.4871e-01, -2.2904e-02,\n",
            "         2.0888e-02,  1.4755e-01, -8.8925e-01, -3.8291e-03, -3.3283e-01,\n",
            "         6.5506e-02, -5.0889e-01, -1.2185e+00, -3.4848e-01,  4.8482e-01,\n",
            "         1.1313e+00, -3.7336e-01, -1.4027e+00, -6.0677e-01,  1.7418e-01,\n",
            "         7.6655e-01,  1.7412e-01,  1.7005e-01,  9.4233e-01,  1.3458e+00,\n",
            "        -6.6449e-02,  1.0621e+00, -1.1783e+00, -2.4755e-01,  3.5662e-01,\n",
            "         5.5139e-01, -3.2198e-01,  6.2824e-01,  7.5772e-01,  7.0534e-01,\n",
            "         7.7296e-01,  3.7703e-01, -1.0047e+00, -5.9900e-01,  2.5800e-01,\n",
            "         5.5424e-02, -1.9227e-01, -3.9794e-01,  1.2841e+00, -1.5180e+00,\n",
            "        -4.0421e-01, -1.7926e-01,  4.3503e-01, -2.9289e-01, -7.6433e-02,\n",
            "         2.0120e+00,  1.1083e+00, -9.8915e-03, -8.5908e-01,  2.5836e-01,\n",
            "        -4.4276e-01,  5.7069e-02,  1.0188e+00, -4.7609e-01,  2.4806e-03,\n",
            "         4.2751e-01, -3.1432e-01, -2.0476e-01,  5.8097e-01,  4.6277e-01,\n",
            "         5.7328e-01,  4.9214e-01, -8.3510e-01,  9.4673e-01, -7.3127e-01,\n",
            "        -9.7993e-01,  6.3948e-01, -5.3846e-01,  6.1365e-02,  6.6244e-03,\n",
            "         4.6907e-01,  2.4335e-01,  4.8014e-02, -1.0511e+00, -3.5266e-01,\n",
            "        -3.0899e-01, -1.0295e-01,  2.1219e+00,  3.1381e-01, -1.5783e+00,\n",
            "        -9.6689e-01, -5.5788e-01, -5.9628e-01, -5.0856e-02,  8.0426e-01,\n",
            "        -7.0984e-01, -1.4754e-01, -7.2787e-01,  9.8125e-01, -4.4536e-01,\n",
            "        -3.7654e-01, -9.1776e-01, -1.0905e-01,  8.5745e-01, -3.6067e-01,\n",
            "        -9.7286e-02,  8.0273e-02, -1.4390e-02,  2.5902e-01, -1.3415e+00,\n",
            "        -2.0122e-01, -2.9194e-01,  1.5751e+00, -5.5967e-01, -5.6710e-01,\n",
            "        -1.3754e-01, -9.1487e-01, -2.8774e-01, -8.3063e-01,  2.7958e-01,\n",
            "        -4.8721e-01,  6.9980e-01,  9.4960e-01, -3.8281e-01, -7.6852e-01,\n",
            "         2.9327e-01, -4.6009e-01, -1.5665e-01, -4.2719e-01, -1.8648e-01,\n",
            "        -9.7612e-01, -1.3656e-01, -3.6410e-01,  6.3762e-01,  4.1038e-01,\n",
            "        -9.3508e-01, -5.8788e-01, -2.8457e-01,  2.8857e-01, -6.5414e-01,\n",
            "        -1.6703e-01, -4.1669e-01, -8.2585e-01,  3.6006e-01,  4.3875e-01,\n",
            "        -1.0917e-01, -9.1665e-01,  5.6111e-01, -9.1152e-01,  1.1991e+00,\n",
            "         3.9228e-01,  7.8278e-02, -1.0138e+00,  1.4536e+00, -1.4720e+00,\n",
            "        -1.1017e-01,  7.7347e-01, -1.4280e+00,  5.1727e-01,  2.7802e-01,\n",
            "        -3.3321e-01,  8.1951e-01, -5.1390e-03,  7.0950e-02,  1.4615e-01,\n",
            "        -9.7510e-01,  7.7070e-01,  2.1732e-01, -8.1088e-01,  3.6650e-01,\n",
            "        -8.3195e-01,  8.9608e-01,  7.8810e-01, -2.8855e-01, -4.8404e-01,\n",
            "         3.9399e-02,  7.2797e-01,  6.0004e-01,  9.0201e-02, -2.5581e-01,\n",
            "         2.3878e-01, -3.1493e-01, -9.7706e-02, -6.7244e-02, -5.8842e-01,\n",
            "        -2.0146e-02, -5.3593e-01, -5.1026e-02, -8.9749e-01,  2.1464e-01,\n",
            "        -3.6659e-01,  5.5982e-01,  7.6776e-01,  3.3643e-01, -1.9943e-01,\n",
            "         9.4561e-01, -9.3470e-01, -1.2687e-01,  4.3121e-02,  1.3185e+00,\n",
            "         1.9081e-01, -3.3515e-02, -6.6931e-01, -1.8628e+00, -2.2589e-01,\n",
            "        -1.0649e-01, -1.2888e-01, -1.2834e+00,  9.2443e-01,  6.8138e-01,\n",
            "         5.2044e-01,  3.5903e-01,  1.1919e+00, -2.3431e-01, -3.9027e-01,\n",
            "         8.9329e-01, -7.5300e-02,  9.1220e-01, -1.0165e+00, -2.2998e-01,\n",
            "        -5.4484e-01,  5.8852e-01,  2.5745e-01, -9.7922e-01, -6.6910e-01,\n",
            "        -1.5583e-01, -8.2694e-01,  1.4560e-01, -2.6028e-01,  9.9813e-01,\n",
            "         3.5726e-01, -7.9762e-01,  1.4378e+00,  4.3255e-01, -7.2452e-01,\n",
            "        -4.4606e-01, -4.4247e-01, -7.3614e-01, -1.8694e-01, -5.4323e-01,\n",
            "        -2.8856e-01,  2.4322e-01,  1.1841e+00, -9.4289e-01, -3.4588e-01,\n",
            "         7.5437e-01,  9.7414e-01,  5.9460e-01, -1.0949e+00, -1.4980e+00,\n",
            "        -4.9996e-01, -1.7401e-01,  1.2321e-01,  1.0408e+00,  9.9498e-01,\n",
            "        -9.7520e-01, -7.3494e-01,  2.7945e-01, -1.4872e+00, -4.0521e-02,\n",
            "         5.0536e-01,  1.4371e-01,  1.5398e+00, -3.2904e-01, -1.2025e+00,\n",
            "         3.1518e-02,  4.5223e-01, -8.6595e-02, -7.4790e-01, -1.7093e-02,\n",
            "        -1.4970e-01,  2.9913e-02,  8.4458e-01, -3.6226e-01, -8.2223e-02,\n",
            "        -3.4435e-01, -6.3566e-01, -1.4623e+00,  6.6690e-02,  1.5695e+00,\n",
            "         1.2400e+00,  7.2708e-01, -1.0340e+00, -6.0805e-01,  3.7988e-01,\n",
            "         2.6264e-01,  6.0603e-01, -4.4936e-03,  8.5400e-01,  3.6791e-01,\n",
            "         4.9945e-02,  1.5635e-01, -2.8463e-01,  4.0376e-01,  6.7964e-01,\n",
            "        -8.8089e-01, -4.1666e-01,  2.3294e-01, -5.7350e-01, -6.9628e-01,\n",
            "         9.9959e-01, -3.7261e-01,  9.8044e-01,  1.2674e-01, -3.4906e-01,\n",
            "        -9.2752e-01,  8.1441e-01, -6.6919e-01, -5.9479e-01,  3.4286e-01,\n",
            "        -1.8701e-01, -3.7624e-02,  4.1746e-01,  5.2678e-01,  1.0046e-01,\n",
            "         1.1842e-01, -7.9869e-01, -4.5615e-01,  1.7371e-01,  6.7574e-01,\n",
            "        -4.6741e-01,  1.7173e+00, -5.6339e-01, -5.2148e-01, -6.9533e-01,\n",
            "        -7.8059e-01, -1.1190e+00, -2.3724e-01, -1.1728e+00,  5.3219e-01,\n",
            "         3.5082e-01, -6.9345e-01, -4.3473e-01,  9.7940e-01,  1.1856e+00,\n",
            "        -1.5289e+00,  1.0654e-01,  3.7391e-01, -9.1861e-02,  4.1370e-01,\n",
            "        -1.1612e-01,  4.5778e-01, -1.8890e-02,  8.0477e-01,  1.8304e-02,\n",
            "        -5.1867e-01,  2.9057e-01,  5.4433e-02,  7.4605e-01, -6.6100e-01,\n",
            "         1.1741e+00,  8.1279e-01,  1.2095e-01,  6.3620e-01, -5.8172e-02,\n",
            "         4.4576e-01,  3.1684e-01, -5.8876e-01, -6.9184e-01, -3.8519e-01,\n",
            "        -5.3155e-03, -6.2733e-01,  3.2193e-01,  3.5540e-01, -8.0095e-01,\n",
            "        -5.2949e-01,  2.1868e-01,  3.2077e-01, -1.3248e+00,  6.0123e-01,\n",
            "         1.7120e-02, -1.3363e+00, -1.9673e-01,  4.8031e-02,  1.4155e+00,\n",
            "        -6.3146e-01,  2.8583e-01, -1.1547e-01,  1.7633e-01, -1.6743e-01,\n",
            "         4.8918e-01,  2.9529e-01, -1.4264e+00,  5.8287e-01, -8.6025e-01,\n",
            "         1.0733e+00, -9.8169e-02, -7.4641e-02,  6.2824e-01,  1.3201e+00,\n",
            "         4.2711e-01, -8.6765e-01, -2.5277e-01,  1.0281e+00,  7.2741e-01,\n",
            "         3.7960e-01, -3.4459e-01, -2.7184e-01, -8.0871e-01, -5.4606e-01,\n",
            "        -4.5053e-01, -2.1827e-02, -3.2158e-01, -1.0051e+00,  9.9289e-01,\n",
            "         3.7524e-02, -2.4092e-01,  1.5249e-01,  8.8762e-01,  3.0369e-01,\n",
            "        -7.1392e-01,  1.6547e+00, -1.1717e-01, -3.5445e-01,  1.5216e+00,\n",
            "         5.6279e-01,  2.4918e-01, -3.9295e-01,  5.5274e-01,  5.9379e-02,\n",
            "         9.7166e-01,  4.7168e-01, -1.3855e-02,  2.4705e-01,  5.8311e-01,\n",
            "         6.8237e-01,  1.2970e+00, -5.3167e-01,  2.4616e-01, -5.9461e-01,\n",
            "        -1.6073e-02,  3.5169e-02, -7.7109e-01, -2.2703e-01,  1.7050e-01,\n",
            "        -5.4654e-02, -6.2045e-01,  5.9019e-01, -8.8181e-01,  1.7146e+00,\n",
            "        -8.1407e-01,  5.0921e-01,  2.8789e-01, -1.4095e-01,  3.7258e-01,\n",
            "        -1.0010e+00,  6.6002e-01,  3.0243e-01,  7.7065e-01,  1.2321e-01,\n",
            "         2.9383e-01,  4.1493e-01, -8.2145e-01, -9.8126e-01, -1.8960e-01,\n",
            "        -7.2423e-01,  1.1016e+00, -1.0333e+00,  1.4164e+00, -6.8097e-02,\n",
            "         3.0943e-01, -8.3031e-01,  1.5035e-01, -5.7671e-01, -2.3822e-01,\n",
            "         1.8174e-02, -6.1947e-01,  2.4676e-01, -1.5291e+00,  3.4393e-01,\n",
            "        -1.1010e+00, -5.1949e-01,  1.0930e+00, -1.7791e+00, -9.6057e-01,\n",
            "        -6.6857e-02, -5.3665e-02, -3.3060e-01, -1.2931e+00,  4.2918e-01,\n",
            "        -1.1140e-01, -1.7268e+00, -8.4842e-01,  8.6382e-01,  9.8573e-01,\n",
            "         1.0658e+00, -6.4392e-01, -2.2096e-01,  3.1045e-01, -6.1942e-01,\n",
            "         1.2053e+00,  8.1656e-01, -9.9429e-01,  6.8950e-01, -8.1829e-01,\n",
            "        -4.0246e-01,  4.0952e-01, -2.2663e-01,  4.6552e-01, -1.0550e-01,\n",
            "        -9.8905e-01, -1.5713e+00, -1.0117e+00, -6.5756e-01, -8.1777e-01,\n",
            "         9.2236e-01,  4.3518e-01,  8.3995e-01,  9.5169e-01,  1.1975e+00,\n",
            "        -6.5118e-01,  1.5441e+00, -4.9836e-01,  1.1677e+00, -8.6093e-01,\n",
            "        -1.1914e-01, -6.8447e-01,  8.3449e-01,  1.7960e-01,  1.8460e+00,\n",
            "        -1.5032e+00, -9.8743e-02, -3.5456e-02, -4.8138e-01,  1.1597e+00,\n",
            "         4.2386e-01, -2.2394e-01, -3.1655e-01,  1.8081e-01,  5.3743e-01,\n",
            "         1.1277e+00,  8.8173e-01,  1.0553e-01,  5.7344e-01, -4.5140e-01,\n",
            "        -3.2196e-01,  1.0957e-01,  5.1991e-01, -7.2308e-01,  6.1292e-02,\n",
            "        -4.7031e-01, -9.3031e-01,  1.3197e+00,  5.7473e-01,  3.5104e-01,\n",
            "         3.0897e-03,  1.7958e-01,  2.5174e-01,  5.2415e-01,  1.0917e+00,\n",
            "         2.1098e-03, -8.5417e-01, -8.9917e-01, -1.4306e+00,  4.6437e-01,\n",
            "         2.7008e-01, -4.9638e-01, -3.0193e-02, -7.8957e-01,  3.9042e-02,\n",
            "         1.6149e+00, -3.6770e-01, -4.4384e-01,  3.8722e-01, -6.4492e-01,\n",
            "         6.5443e-01,  3.3290e-01,  3.1906e-01, -6.7005e-01, -8.4969e-01,\n",
            "         7.8054e-01, -2.4347e-01,  6.0140e-01, -4.6424e-01,  4.5378e-01,\n",
            "        -3.2910e-01,  6.0961e-01,  6.8035e-01,  4.5206e-01,  1.3293e+00,\n",
            "        -1.8202e-01, -6.5604e-01,  1.0783e+00,  9.9600e-02,  5.6569e-01,\n",
            "        -5.4701e-01, -4.3351e-01, -1.1420e+00, -1.9194e+00, -1.0170e+00,\n",
            "        -1.7761e+00, -1.1207e+00,  1.1566e+00, -4.7812e-01,  5.4538e-01,\n",
            "         2.0652e-01, -6.0890e-01, -5.2976e-01,  2.3937e-01,  1.1605e+00,\n",
            "        -2.4811e-01, -4.1175e-01, -1.7285e-01,  6.6778e-01, -1.5980e-01,\n",
            "         9.5176e-01, -8.2386e-01,  6.5673e-01,  3.8548e-02, -1.7081e-01,\n",
            "         7.8940e-01,  9.6779e-01,  5.7925e-02,  7.1839e-01, -1.2727e-01,\n",
            "        -1.4222e+00,  1.9657e-01, -7.4541e-01, -4.5140e-01, -4.9325e-01,\n",
            "        -9.3068e-02,  7.9645e-01,  3.4283e-01,  6.7342e-01,  1.1940e+00,\n",
            "         3.6957e-01,  5.9213e-01,  4.2281e-01,  1.7235e-02,  1.5633e+00,\n",
            "         3.5668e-01, -5.3569e-01,  5.0159e-01,  5.8605e-01, -1.0629e+00,\n",
            "         8.5236e-01, -3.8706e-02, -6.0721e-01, -4.2601e-02, -4.0781e-01,\n",
            "        -2.1163e-01, -1.1464e+00, -8.8547e-01, -1.7109e-01, -1.5548e-01,\n",
            "        -8.1389e-01, -3.4162e-01,  1.6787e+00, -3.1928e-01, -2.3707e-01,\n",
            "        -3.0344e-01, -3.7780e-01, -4.2444e-02, -3.0347e-01, -4.0911e-01,\n",
            "        -1.0929e+00, -2.9053e-01, -3.0981e-01, -1.0146e+00, -6.8807e-01,\n",
            "        -9.6232e-01, -1.6659e-01,  1.2976e+00,  3.1812e-01,  1.9938e-01,\n",
            "        -1.0338e+00, -5.7204e-01, -4.2475e-01,  3.8551e-01, -1.1115e+00,\n",
            "         3.4247e-01,  1.6448e+00, -3.9822e-01,  1.0942e-01,  6.0102e-01,\n",
            "         7.7050e-01, -4.1550e-01, -1.2171e+00,  4.7996e-01, -5.0789e-01,\n",
            "         1.2660e+00,  1.1321e-01, -1.5354e-01, -4.4532e-01,  9.4085e-01,\n",
            "        -2.0957e-01, -8.3269e-01, -9.0423e-01, -2.6180e-01, -3.1889e-01,\n",
            "        -4.1119e-01,  7.8508e-01,  8.9115e-01,  9.8614e-01,  4.4301e-01,\n",
            "         5.3975e-02,  2.5534e-01, -3.3398e-01,  2.9456e-01, -1.6502e-02,\n",
            "         4.5179e-01,  5.2167e-01,  2.4248e-01, -1.3117e+00,  8.0290e-01,\n",
            "         9.0842e-01, -3.8164e-02,  3.7267e-01,  3.7665e-01, -1.3487e+00,\n",
            "         5.3597e-01, -4.6959e-01, -6.1964e-01,  5.2956e-01,  2.2249e-01,\n",
            "        -6.4830e-01,  8.2340e-01,  1.5975e+00, -1.0888e-01,  3.8886e-02,\n",
            "         2.5806e-02,  9.4117e-02,  4.5619e-01, -1.8612e-01,  9.2265e-02,\n",
            "         3.0519e-01,  6.3507e-01,  5.2213e-01], device='cuda:0')\n",
            "tensor([[0.9851]], device='cuda:0')\n"
          ]
        }
      ]
    },
    {
      "cell_type": "markdown",
      "metadata": {
        "id": "6RsGaD1qAfLP"
      },
      "source": [
        "## 5. Share your model 🎉"
      ]
    },
    {
      "cell_type": "markdown",
      "metadata": {
        "id": "5oESe8djApQw"
      },
      "source": [
        "Finally, when you have a nice model, please think about sharing it with the community:\n",
        "\n",
        "- upload your model using the CLI: `transformers-cli upload`\n",
        "- write a README.md model card and add it to the repository under `model_cards/`. Your model card should ideally include:\n",
        "    - a model description,\n",
        "    - training params (dataset, preprocessing, hyperparameters), \n",
        "    - evaluation results,\n",
        "    - intended uses & limitations\n",
        "    - whatever else is helpful! 🤓\n",
        "\n",
        "### **TADA!**\n",
        "\n",
        "➡️ Your model has a page on http://huggingface.co/models and everyone can load it using `AutoModel.from_pretrained(\"username/model_name\")`.\n",
        "\n",
        "[![tb](https://huggingface.co/blog/assets/01_how-to-train/model_page.png)](https://huggingface.co/julien-c/EsperBERTo-small)\n"
      ]
    },
    {
      "cell_type": "markdown",
      "metadata": {
        "id": "aw9ifsgqBI2o"
      },
      "source": [
        "If you want to take a look at models in different languages, check https://huggingface.co/models\n",
        "\n",
        "[![all models](https://huggingface.co/front/thumbnails/models.png)](https://huggingface.co/models)\n"
      ]
    }
  ]
}